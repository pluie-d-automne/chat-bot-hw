{
  "cells": [
    {
      "cell_type": "code",
      "execution_count": 31,
      "metadata": {
        "id": "ZGWoSlLsi2YS",
        "colab": {
          "base_uri": "https://localhost:8080/"
        },
        "outputId": "67ddfd25-1c8c-4454-9406-c53471d56411"
      },
      "outputs": [
        {
          "output_type": "stream",
          "name": "stdout",
          "text": [
            "Collecting faiss-cpu\n",
            "  Downloading faiss_cpu-1.7.4-cp310-cp310-manylinux_2_17_x86_64.manylinux2014_x86_64.whl (17.6 MB)\n",
            "\u001b[2K     \u001b[90m━━━━━━━━━━━━━━━━━━━━━━━━━━━━━━━━━━━━━━━━\u001b[0m \u001b[32m17.6/17.6 MB\u001b[0m \u001b[31m19.8 MB/s\u001b[0m eta \u001b[36m0:00:00\u001b[0m\n",
            "\u001b[?25hInstalling collected packages: faiss-cpu\n",
            "Successfully installed faiss-cpu-1.7.4\n"
          ]
        }
      ],
      "source": [
        "#!pip install datasets\n",
        "!pip install faiss-cpu"
      ]
    },
    {
      "cell_type": "code",
      "execution_count": 32,
      "metadata": {
        "id": "RTiL2h4BX079"
      },
      "outputs": [],
      "source": [
        "# import datasets\n",
        "import faiss\n",
        "import matplotlib.pyplot as plt\n",
        "import numpy as np\n",
        "import pandas as pd\n",
        "import random\n",
        "from sklearn.metrics.pairwise import cosine_similarity\n",
        "import torch\n",
        "from torch.utils.data import Dataset, DataLoader, random_split\n",
        "from tqdm.auto import tqdm\n",
        "from transformers import AutoTokenizer, AutoModel\n",
        "from transformers.optimization import get_linear_schedule_with_warmup\n",
        "from typing import Callable, Iterable\n",
        "from app.dataset.homer_dataset import HomerDataset\n",
        "from app.biencoder.sentence_bert import SentenceBert, encode, mini_batch, get_train_step_fn, get_val_step_fn"
      ]
    },
    {
      "cell_type": "code",
      "execution_count": 3,
      "metadata": {
        "colab": {
          "base_uri": "https://localhost:8080/"
        },
        "id": "bRSqkDhxh3pV",
        "outputId": "2d37c218-0910-413a-8a88-0f63fa7dd483"
      },
      "outputs": [
        {
          "output_type": "stream",
          "name": "stdout",
          "text": [
            "Device: cpu\n"
          ]
        }
      ],
      "source": [
        "device = \"cuda\" if torch.cuda.is_available() else \"cpu\"\n",
        "print(f'Device: {device}')"
      ]
    },
    {
      "cell_type": "code",
      "execution_count": 4,
      "metadata": {
        "id": "X1G9QNf-fbHN"
      },
      "outputs": [],
      "source": [
        "seed = 10\n",
        "\n",
        "random.seed(seed)\n",
        "np.random.seed(seed)\n",
        "\n",
        "torch.manual_seed(seed)\n",
        "torch.cuda.manual_seed_all(seed)\n",
        "\n",
        "torch.backends.cudnn.deterministic = True\n",
        "torch.backends.cudnn.benchmark = False"
      ]
    },
    {
      "cell_type": "markdown",
      "metadata": {
        "id": "l9lZyJVoe0Ri"
      },
      "source": [
        "# Crate dataset"
      ]
    },
    {
      "cell_type": "code",
      "execution_count": 5,
      "metadata": {
        "colab": {
          "base_uri": "https://localhost:8080/",
          "height": 595,
          "referenced_widgets": [
            "df79e86d81754fc7a37c2e0812f7d601",
            "7cda26c11cb94b8daf869655f65e34c3",
            "6cf3b09a353944d08ddf21a196e882cb",
            "908bcbc268f540438606ad69e0d49f09",
            "dd43add893804c5d891b2226676518c1",
            "69b223e2527a41008defd4353769ab74",
            "4308011bd3ef4d0da387c398879ce8af",
            "b5de48adf9284992a90661d5ed36366b",
            "0c99d9cea6a842c0a6ca43660c9176a6",
            "5ab2f0d888aa47878acf389672898594",
            "3d19cf51f8194c3ea813542320c7ee76",
            "4d2d89265d55498191e0477b0ec599dc",
            "9c423b7c454c481f9caf735f2842782d",
            "e000c68bc38340e8920440596ff41c35",
            "27a401947aaa44a583b02aad0908c17e",
            "89bf7cc8c3dd4a2993db429b040a9ab9",
            "15c2cde4db7e4059a12763796b516f41",
            "e6a985b47e8c4190b3bb15a678e7a78c",
            "e207871a0e114133a1179765bd59a542",
            "3baf014d90704895a65d7c3d5ff5b7c3",
            "1748de337cd44309984777289d6c0f4b",
            "f3b27f4f851c456596b702eb74d88c32",
            "750374d1428c4b4589b06fe8221e9486",
            "c0585abc52744e818c86464e69c9c889",
            "327ad2d9b2a046d7afda73728dc82b9d",
            "5f560a09e5a94fdb9d0063867a42ecce",
            "16ef5c6570b34a07852e9f8d8d82f7d3",
            "ac63936021dc416ca0c728744b340464",
            "05f8699a36a343a7aa9054a2bd0f9154",
            "b0cfdd08905842afae85cd4d225ab222",
            "b69c30a184fb484086386afc9fb5a6e7",
            "f3330fc93136460b9cb6014b8f2a84b5",
            "a585bae016274b8a98630b6dbc5c054c",
            "72e8f9bf09544b76ae3d06b5db4702d0",
            "48a4b39948c04c4e86b34a1bc0492434",
            "b31ae0f16e29471f8a20940d2cbfc7a5",
            "770e3a2615e14dcbbe513e5f4dade3d8",
            "2c7a704901744805bb242521aa5c3e64",
            "9c812d1f42734a7086b27b43160eb751",
            "4a6b34c6c5c84c729ddba698e40dd78c",
            "abe0567cb8684761b052e0ef9e414e5b",
            "56042555007f4ce2ae21088df32cfee9",
            "7a58dd463a974ce8a3cc3299d542643b",
            "cd56e58a45544b7cb68b9995d6c3677f"
          ]
        },
        "id": "xljNG4NhYavP",
        "outputId": "9ae087ac-c181-4b7c-be68-849eda262390"
      },
      "outputs": [
        {
          "output_type": "stream",
          "name": "stderr",
          "text": [
            "/usr/local/lib/python3.10/dist-packages/huggingface_hub/utils/_token.py:88: UserWarning: \n",
            "The secret `HF_TOKEN` does not exist in your Colab secrets.\n",
            "To authenticate with the Hugging Face Hub, create a token in your settings tab (https://huggingface.co/settings/tokens), set it as secret in your Google Colab and restart your session.\n",
            "You will be able to reuse this secret in all of your notebooks.\n",
            "Please note that authentication is recommended but still optional to access public models or datasets.\n",
            "  warnings.warn(\n"
          ]
        },
        {
          "output_type": "display_data",
          "data": {
            "text/plain": [
              "tokenizer_config.json:   0%|          | 0.00/28.0 [00:00<?, ?B/s]"
            ],
            "application/vnd.jupyter.widget-view+json": {
              "version_major": 2,
              "version_minor": 0,
              "model_id": "df79e86d81754fc7a37c2e0812f7d601"
            }
          },
          "metadata": {}
        },
        {
          "output_type": "display_data",
          "data": {
            "text/plain": [
              "config.json:   0%|          | 0.00/483 [00:00<?, ?B/s]"
            ],
            "application/vnd.jupyter.widget-view+json": {
              "version_major": 2,
              "version_minor": 0,
              "model_id": "4d2d89265d55498191e0477b0ec599dc"
            }
          },
          "metadata": {}
        },
        {
          "output_type": "display_data",
          "data": {
            "text/plain": [
              "vocab.txt:   0%|          | 0.00/232k [00:00<?, ?B/s]"
            ],
            "application/vnd.jupyter.widget-view+json": {
              "version_major": 2,
              "version_minor": 0,
              "model_id": "750374d1428c4b4589b06fe8221e9486"
            }
          },
          "metadata": {}
        },
        {
          "output_type": "display_data",
          "data": {
            "text/plain": [
              "tokenizer.json:   0%|          | 0.00/466k [00:00<?, ?B/s]"
            ],
            "application/vnd.jupyter.widget-view+json": {
              "version_major": 2,
              "version_minor": 0,
              "model_id": "72e8f9bf09544b76ae3d06b5db4702d0"
            }
          },
          "metadata": {}
        },
        {
          "output_type": "execute_result",
          "data": {
            "text/plain": [
              "        raw_character_text                                       spoken_words\n",
              "0              Miss Hoover  No, actually, it was a little of both. Sometim...\n",
              "1             Lisa Simpson                             Where's Mr. Bergstrom?\n",
              "2              Miss Hoover  I don't know. Although I'd sure like to talk t...\n",
              "3             Lisa Simpson                         That life is worth living.\n",
              "4  Edna Krabappel-Flanders  The polls will be open from now until the end ...\n",
              "5            Martin Prince        I don't think there's anything left to say.\n",
              "6  Edna Krabappel-Flanders                                              Bart?\n",
              "7             Bart Simpson                     Victory party under the slide!\n",
              "8                      NaN                                                NaN\n",
              "9             Lisa Simpson                      Mr. Bergstrom! Mr. Bergstrom!"
            ],
            "text/html": [
              "\n",
              "  <div id=\"df-63bc79cf-f455-416b-a4df-9a9a8d0ec10e\" class=\"colab-df-container\">\n",
              "    <div>\n",
              "<style scoped>\n",
              "    .dataframe tbody tr th:only-of-type {\n",
              "        vertical-align: middle;\n",
              "    }\n",
              "\n",
              "    .dataframe tbody tr th {\n",
              "        vertical-align: top;\n",
              "    }\n",
              "\n",
              "    .dataframe thead th {\n",
              "        text-align: right;\n",
              "    }\n",
              "</style>\n",
              "<table border=\"1\" class=\"dataframe\">\n",
              "  <thead>\n",
              "    <tr style=\"text-align: right;\">\n",
              "      <th></th>\n",
              "      <th>raw_character_text</th>\n",
              "      <th>spoken_words</th>\n",
              "    </tr>\n",
              "  </thead>\n",
              "  <tbody>\n",
              "    <tr>\n",
              "      <th>0</th>\n",
              "      <td>Miss Hoover</td>\n",
              "      <td>No, actually, it was a little of both. Sometim...</td>\n",
              "    </tr>\n",
              "    <tr>\n",
              "      <th>1</th>\n",
              "      <td>Lisa Simpson</td>\n",
              "      <td>Where's Mr. Bergstrom?</td>\n",
              "    </tr>\n",
              "    <tr>\n",
              "      <th>2</th>\n",
              "      <td>Miss Hoover</td>\n",
              "      <td>I don't know. Although I'd sure like to talk t...</td>\n",
              "    </tr>\n",
              "    <tr>\n",
              "      <th>3</th>\n",
              "      <td>Lisa Simpson</td>\n",
              "      <td>That life is worth living.</td>\n",
              "    </tr>\n",
              "    <tr>\n",
              "      <th>4</th>\n",
              "      <td>Edna Krabappel-Flanders</td>\n",
              "      <td>The polls will be open from now until the end ...</td>\n",
              "    </tr>\n",
              "    <tr>\n",
              "      <th>5</th>\n",
              "      <td>Martin Prince</td>\n",
              "      <td>I don't think there's anything left to say.</td>\n",
              "    </tr>\n",
              "    <tr>\n",
              "      <th>6</th>\n",
              "      <td>Edna Krabappel-Flanders</td>\n",
              "      <td>Bart?</td>\n",
              "    </tr>\n",
              "    <tr>\n",
              "      <th>7</th>\n",
              "      <td>Bart Simpson</td>\n",
              "      <td>Victory party under the slide!</td>\n",
              "    </tr>\n",
              "    <tr>\n",
              "      <th>8</th>\n",
              "      <td>NaN</td>\n",
              "      <td>NaN</td>\n",
              "    </tr>\n",
              "    <tr>\n",
              "      <th>9</th>\n",
              "      <td>Lisa Simpson</td>\n",
              "      <td>Mr. Bergstrom! Mr. Bergstrom!</td>\n",
              "    </tr>\n",
              "  </tbody>\n",
              "</table>\n",
              "</div>\n",
              "    <div class=\"colab-df-buttons\">\n",
              "\n",
              "  <div class=\"colab-df-container\">\n",
              "    <button class=\"colab-df-convert\" onclick=\"convertToInteractive('df-63bc79cf-f455-416b-a4df-9a9a8d0ec10e')\"\n",
              "            title=\"Convert this dataframe to an interactive table.\"\n",
              "            style=\"display:none;\">\n",
              "\n",
              "  <svg xmlns=\"http://www.w3.org/2000/svg\" height=\"24px\" viewBox=\"0 -960 960 960\">\n",
              "    <path d=\"M120-120v-720h720v720H120Zm60-500h600v-160H180v160Zm220 220h160v-160H400v160Zm0 220h160v-160H400v160ZM180-400h160v-160H180v160Zm440 0h160v-160H620v160ZM180-180h160v-160H180v160Zm440 0h160v-160H620v160Z\"/>\n",
              "  </svg>\n",
              "    </button>\n",
              "\n",
              "  <style>\n",
              "    .colab-df-container {\n",
              "      display:flex;\n",
              "      gap: 12px;\n",
              "    }\n",
              "\n",
              "    .colab-df-convert {\n",
              "      background-color: #E8F0FE;\n",
              "      border: none;\n",
              "      border-radius: 50%;\n",
              "      cursor: pointer;\n",
              "      display: none;\n",
              "      fill: #1967D2;\n",
              "      height: 32px;\n",
              "      padding: 0 0 0 0;\n",
              "      width: 32px;\n",
              "    }\n",
              "\n",
              "    .colab-df-convert:hover {\n",
              "      background-color: #E2EBFA;\n",
              "      box-shadow: 0px 1px 2px rgba(60, 64, 67, 0.3), 0px 1px 3px 1px rgba(60, 64, 67, 0.15);\n",
              "      fill: #174EA6;\n",
              "    }\n",
              "\n",
              "    .colab-df-buttons div {\n",
              "      margin-bottom: 4px;\n",
              "    }\n",
              "\n",
              "    [theme=dark] .colab-df-convert {\n",
              "      background-color: #3B4455;\n",
              "      fill: #D2E3FC;\n",
              "    }\n",
              "\n",
              "    [theme=dark] .colab-df-convert:hover {\n",
              "      background-color: #434B5C;\n",
              "      box-shadow: 0px 1px 3px 1px rgba(0, 0, 0, 0.15);\n",
              "      filter: drop-shadow(0px 1px 2px rgba(0, 0, 0, 0.3));\n",
              "      fill: #FFFFFF;\n",
              "    }\n",
              "  </style>\n",
              "\n",
              "    <script>\n",
              "      const buttonEl =\n",
              "        document.querySelector('#df-63bc79cf-f455-416b-a4df-9a9a8d0ec10e button.colab-df-convert');\n",
              "      buttonEl.style.display =\n",
              "        google.colab.kernel.accessAllowed ? 'block' : 'none';\n",
              "\n",
              "      async function convertToInteractive(key) {\n",
              "        const element = document.querySelector('#df-63bc79cf-f455-416b-a4df-9a9a8d0ec10e');\n",
              "        const dataTable =\n",
              "          await google.colab.kernel.invokeFunction('convertToInteractive',\n",
              "                                                    [key], {});\n",
              "        if (!dataTable) return;\n",
              "\n",
              "        const docLinkHtml = 'Like what you see? Visit the ' +\n",
              "          '<a target=\"_blank\" href=https://colab.research.google.com/notebooks/data_table.ipynb>data table notebook</a>'\n",
              "          + ' to learn more about interactive tables.';\n",
              "        element.innerHTML = '';\n",
              "        dataTable['output_type'] = 'display_data';\n",
              "        await google.colab.output.renderOutput(dataTable, element);\n",
              "        const docLink = document.createElement('div');\n",
              "        docLink.innerHTML = docLinkHtml;\n",
              "        element.appendChild(docLink);\n",
              "      }\n",
              "    </script>\n",
              "  </div>\n",
              "\n",
              "\n",
              "<div id=\"df-f5baa6ec-90cd-4a5b-a091-b0f809501213\">\n",
              "  <button class=\"colab-df-quickchart\" onclick=\"quickchart('df-f5baa6ec-90cd-4a5b-a091-b0f809501213')\"\n",
              "            title=\"Suggest charts\"\n",
              "            style=\"display:none;\">\n",
              "\n",
              "<svg xmlns=\"http://www.w3.org/2000/svg\" height=\"24px\"viewBox=\"0 0 24 24\"\n",
              "     width=\"24px\">\n",
              "    <g>\n",
              "        <path d=\"M19 3H5c-1.1 0-2 .9-2 2v14c0 1.1.9 2 2 2h14c1.1 0 2-.9 2-2V5c0-1.1-.9-2-2-2zM9 17H7v-7h2v7zm4 0h-2V7h2v10zm4 0h-2v-4h2v4z\"/>\n",
              "    </g>\n",
              "</svg>\n",
              "  </button>\n",
              "\n",
              "<style>\n",
              "  .colab-df-quickchart {\n",
              "      --bg-color: #E8F0FE;\n",
              "      --fill-color: #1967D2;\n",
              "      --hover-bg-color: #E2EBFA;\n",
              "      --hover-fill-color: #174EA6;\n",
              "      --disabled-fill-color: #AAA;\n",
              "      --disabled-bg-color: #DDD;\n",
              "  }\n",
              "\n",
              "  [theme=dark] .colab-df-quickchart {\n",
              "      --bg-color: #3B4455;\n",
              "      --fill-color: #D2E3FC;\n",
              "      --hover-bg-color: #434B5C;\n",
              "      --hover-fill-color: #FFFFFF;\n",
              "      --disabled-bg-color: #3B4455;\n",
              "      --disabled-fill-color: #666;\n",
              "  }\n",
              "\n",
              "  .colab-df-quickchart {\n",
              "    background-color: var(--bg-color);\n",
              "    border: none;\n",
              "    border-radius: 50%;\n",
              "    cursor: pointer;\n",
              "    display: none;\n",
              "    fill: var(--fill-color);\n",
              "    height: 32px;\n",
              "    padding: 0;\n",
              "    width: 32px;\n",
              "  }\n",
              "\n",
              "  .colab-df-quickchart:hover {\n",
              "    background-color: var(--hover-bg-color);\n",
              "    box-shadow: 0 1px 2px rgba(60, 64, 67, 0.3), 0 1px 3px 1px rgba(60, 64, 67, 0.15);\n",
              "    fill: var(--button-hover-fill-color);\n",
              "  }\n",
              "\n",
              "  .colab-df-quickchart-complete:disabled,\n",
              "  .colab-df-quickchart-complete:disabled:hover {\n",
              "    background-color: var(--disabled-bg-color);\n",
              "    fill: var(--disabled-fill-color);\n",
              "    box-shadow: none;\n",
              "  }\n",
              "\n",
              "  .colab-df-spinner {\n",
              "    border: 2px solid var(--fill-color);\n",
              "    border-color: transparent;\n",
              "    border-bottom-color: var(--fill-color);\n",
              "    animation:\n",
              "      spin 1s steps(1) infinite;\n",
              "  }\n",
              "\n",
              "  @keyframes spin {\n",
              "    0% {\n",
              "      border-color: transparent;\n",
              "      border-bottom-color: var(--fill-color);\n",
              "      border-left-color: var(--fill-color);\n",
              "    }\n",
              "    20% {\n",
              "      border-color: transparent;\n",
              "      border-left-color: var(--fill-color);\n",
              "      border-top-color: var(--fill-color);\n",
              "    }\n",
              "    30% {\n",
              "      border-color: transparent;\n",
              "      border-left-color: var(--fill-color);\n",
              "      border-top-color: var(--fill-color);\n",
              "      border-right-color: var(--fill-color);\n",
              "    }\n",
              "    40% {\n",
              "      border-color: transparent;\n",
              "      border-right-color: var(--fill-color);\n",
              "      border-top-color: var(--fill-color);\n",
              "    }\n",
              "    60% {\n",
              "      border-color: transparent;\n",
              "      border-right-color: var(--fill-color);\n",
              "    }\n",
              "    80% {\n",
              "      border-color: transparent;\n",
              "      border-right-color: var(--fill-color);\n",
              "      border-bottom-color: var(--fill-color);\n",
              "    }\n",
              "    90% {\n",
              "      border-color: transparent;\n",
              "      border-bottom-color: var(--fill-color);\n",
              "    }\n",
              "  }\n",
              "</style>\n",
              "\n",
              "  <script>\n",
              "    async function quickchart(key) {\n",
              "      const quickchartButtonEl =\n",
              "        document.querySelector('#' + key + ' button');\n",
              "      quickchartButtonEl.disabled = true;  // To prevent multiple clicks.\n",
              "      quickchartButtonEl.classList.add('colab-df-spinner');\n",
              "      try {\n",
              "        const charts = await google.colab.kernel.invokeFunction(\n",
              "            'suggestCharts', [key], {});\n",
              "      } catch (error) {\n",
              "        console.error('Error during call to suggestCharts:', error);\n",
              "      }\n",
              "      quickchartButtonEl.classList.remove('colab-df-spinner');\n",
              "      quickchartButtonEl.classList.add('colab-df-quickchart-complete');\n",
              "    }\n",
              "    (() => {\n",
              "      let quickchartButtonEl =\n",
              "        document.querySelector('#df-f5baa6ec-90cd-4a5b-a091-b0f809501213 button');\n",
              "      quickchartButtonEl.style.display =\n",
              "        google.colab.kernel.accessAllowed ? 'block' : 'none';\n",
              "    })();\n",
              "  </script>\n",
              "</div>\n",
              "    </div>\n",
              "  </div>\n"
            ],
            "application/vnd.google.colaboratory.intrinsic+json": {
              "type": "dataframe",
              "variable_name": "raw_df"
            }
          },
          "metadata": {},
          "execution_count": 5
        }
      ],
      "source": [
        "# Загрузим данные из источника и поготовим токенизатор\n",
        "tokenizer = AutoTokenizer.from_pretrained(\"distilbert-base-uncased\")\n",
        "raw_df = pd.read_csv('data/simpsons_dataset.csv')\n",
        "raw_df.head(10)"
      ]
    },
    {
      "cell_type": "code",
      "execution_count": 6,
      "metadata": {
        "colab": {
          "base_uri": "https://localhost:8080/"
        },
        "id": "fx4ii06rhYn8",
        "outputId": "46d0ae14-7ffb-4892-b0d6-1ac42dcf48b4"
      },
      "outputs": [
        {
          "output_type": "stream",
          "name": "stdout",
          "text": [
            "CPU times: user 58.3 s, sys: 8.75 s, total: 1min 7s\n",
            "Wall time: 1min 5s\n"
          ]
        }
      ],
      "source": [
        "%%time\n",
        "# Инициализируем датасет\n",
        "homer_dataset = HomerDataset(raw_df, tokenizer)"
      ]
    },
    {
      "cell_type": "code",
      "execution_count": 7,
      "metadata": {
        "colab": {
          "base_uri": "https://localhost:8080/"
        },
        "id": "54HSNdo9Zyz-",
        "outputId": "037f2888-47a7-4558-de46-beaedbdf9418"
      },
      "outputs": [
        {
          "output_type": "execute_result",
          "data": {
            "text/plain": [
              "124681"
            ]
          },
          "metadata": {},
          "execution_count": 7
        }
      ],
      "source": [
        "len(homer_dataset)"
      ]
    },
    {
      "cell_type": "code",
      "execution_count": 8,
      "metadata": {
        "id": "lHcLJs5fiBOp"
      },
      "outputs": [],
      "source": [
        "# Разобьём датасет на трейн и тест\n",
        "train_ratio = 0.8\n",
        "n_total = len(homer_dataset)\n",
        "n_train = int(n_total * train_ratio)\n",
        "n_val = n_total - n_train\n",
        "\n",
        "train_dataset, val_dataset = random_split(homer_dataset, [n_train, n_val])\n",
        "\n",
        "batch_size = 16\n",
        "train_dataloader = DataLoader(train_dataset, batch_size=batch_size, shuffle=True)\n",
        "val_dataloader = DataLoader(val_dataset, batch_size=batch_size, shuffle=False)"
      ]
    },
    {
      "cell_type": "markdown",
      "metadata": {
        "id": "khziRI6sewLa"
      },
      "source": [
        "# BI-Encoder"
      ]
    },
    {
      "cell_type": "code",
      "execution_count": 18,
      "metadata": {
        "id": "KPA-GUdPkBWp"
      },
      "outputs": [],
      "source": [
        "model = SentenceBert(device=device)\n",
        "model_location = \"app/model/sentence_bert_biencoder\" #\"/content/drive/MyDrive/models/sentence_bert_softmax_lr_2e-6\""
      ]
    },
    {
      "cell_type": "code",
      "execution_count": 10,
      "metadata": {
        "id": "OopXYZg0kFrR"
      },
      "outputs": [],
      "source": [
        "optimizer = torch.optim.AdamW(model.parameters(), lr=2e-6)\n",
        "total_steps = len(train_dataset) // batch_size\n",
        "warmup_steps = int(0.1 * total_steps)\n",
        "scheduler = get_linear_schedule_with_warmup(optimizer, num_warmup_steps=warmup_steps,\n",
        "                                            num_training_steps=total_steps - warmup_steps)\n",
        "\n",
        "loss_fn = torch.nn.CrossEntropyLoss()"
      ]
    },
    {
      "cell_type": "code",
      "execution_count": null,
      "metadata": {
        "id": "LkzteoaCkVhS"
      },
      "outputs": [],
      "source": [
        "%%time\n",
        "\n",
        "n_epochs = 1  # mentioned in the paper\n",
        "\n",
        "train_step_fn = get_train_step_fn(model, optimizer, scheduler, loss_fn)\n",
        "val_step_fn = get_val_step_fn(model, loss_fn)\n",
        "\n",
        "train_losses, train_mini_batch_losses = [], []\n",
        "val_losses, val_mini_batch_losses = [], []\n",
        "\n",
        "for epoch in range(1, n_epochs + 1):\n",
        "    train_loss, _train_mini_batch_losses = mini_batch(train_dataloader, train_step_fn, device=device)\n",
        "    train_mini_batch_losses += _train_mini_batch_losses\n",
        "    train_losses.append(train_loss)\n",
        "\n",
        "    with torch.no_grad():\n",
        "        val_loss, _val_mini_batch_losses = mini_batch(val_dataloader, val_step_fn, is_training=False, device=device)\n",
        "        val_mini_batch_losses += _val_mini_batch_losses\n",
        "        val_losses.append(val_loss)"
      ]
    },
    {
      "cell_type": "code",
      "execution_count": null,
      "metadata": {
        "id": "MYEtZe9_lJSF"
      },
      "outputs": [],
      "source": [
        "model.bert_model.save_pretrained(model_location)"
      ]
    },
    {
      "cell_type": "code",
      "execution_count": null,
      "metadata": {
        "id": "Xp51E6k3lesC"
      },
      "outputs": [],
      "source": [
        "window_size = 32\n",
        "\n",
        "train_mb_running_loss = []\n",
        "for i in range(len(train_mini_batch_losses)-window_size):\n",
        "    train_mb_running_loss.append(np.mean(train_mini_batch_losses[i:i+window_size]))\n",
        "\n",
        "val_mb_running_loss = []\n",
        "for i in range(len(val_mini_batch_losses)-window_size):\n",
        "    val_mb_running_loss.append(np.mean(val_mini_batch_losses[i:i+window_size]))"
      ]
    },
    {
      "cell_type": "code",
      "execution_count": null,
      "metadata": {
        "colab": {
          "base_uri": "https://localhost:8080/",
          "height": 830
        },
        "id": "IQ-1eHK0lfgh",
        "outputId": "ad4ae164-843a-49e6-bb5a-39e9984fd459"
      },
      "outputs": [
        {
          "data": {
            "image/png": "[encoded data removed]",
            "text/plain": [
              "<Figure size 1400x1000 with 1 Axes>"
            ]
          },
          "metadata": {},
          "output_type": "display_data"
        }
      ],
      "source": [
        "fix, ax = plt.subplots(figsize=(14, 10))\n",
        "ax.plot(range(len(train_mb_running_loss)), train_mb_running_loss);"
      ]
    },
    {
      "cell_type": "code",
      "execution_count": 19,
      "metadata": {
        "id": "Rz9jcKqahmn0"
      },
      "outputs": [],
      "source": [
        "model.bert_model = model.bert_model.from_pretrained(model_location)"
      ]
    },
    {
      "cell_type": "code",
      "execution_count": 20,
      "metadata": {
        "id": "Ewpt3fAUj6Eg"
      },
      "outputs": [],
      "source": [
        "sentences = [\n",
        "    'Hello, Homer',\n",
        "    \"Hi!\",\n",
        "    \"Were is Lisa?\",\n",
        "    \"She should be at school\",\n",
        "    \"Your house is on fire\",\n",
        "    \"Woo hoo\",\n",
        "    \"What is your name?\",\n",
        "    \"I am Homer\"\n",
        "]"
      ]
    },
    {
      "cell_type": "code",
      "execution_count": 23,
      "metadata": {
        "id": "LyrP0FTEjeyh"
      },
      "outputs": [],
      "source": [
        "pooled_embeds = encode(sentences, model.bert_tokenizer, model.bert_model, device)\n",
        "pooled_embeds = pooled_embeds.cpu().detach().numpy()"
      ]
    },
    {
      "cell_type": "code",
      "execution_count": 22,
      "metadata": {
        "id": "jpRbzkDhkhEo"
      },
      "outputs": [],
      "source": [
        "def plot_heatmap(similarity_matrix: np.array, sentences: list[str]) -> None:\n",
        "    fig, ax = plt.subplots(figsize=(10, 10))\n",
        "    im = ax.imshow(similarity_matrix, cmap='YlGn', interpolation='nearest')\n",
        "\n",
        "    ax.set_yticks(np.arange(len(sentences)), labels=[txt[:50] + \"...\" for txt in sentences])\n",
        "    ax.set_xticks(np.arange(len(sentences)), labels=[txt[:50] + \"...\" for txt in sentences])\n",
        "\n",
        "    plt.setp(ax.get_xticklabels(), rotation=45, ha=\"right\", rotation_mode=\"anchor\")\n",
        "\n",
        "    for i in range(len(sentences)):\n",
        "        for j in range(len(sentences)):\n",
        "            text = ax.text(j, i, round(similarity_matrix[i, j], 2),\n",
        "                           ha=\"center\", va=\"center\", color=\"w\")\n",
        "\n",
        "    fig.tight_layout()\n",
        "    plt.show()"
      ]
    },
    {
      "cell_type": "code",
      "execution_count": 25,
      "metadata": {
        "colab": {
          "base_uri": "https://localhost:8080/",
          "height": 967
        },
        "id": "xx10JqRUj3Qm",
        "outputId": "a9fc81d7-8720-4f47-9ffd-1c3448fb1341"
      },
      "outputs": [
        {
          "output_type": "display_data",
          "data": {
            "text/plain": [
              "<Figure size 1000x1000 with 1 Axes>"
            ],
            "image/png": "[encoded data removed]"
          },
          "metadata": {}
        }
      ],
      "source": [
        "similarity_matrix = cosine_similarity(pooled_embeds)\n",
        "plot_heatmap(similarity_matrix, sentences)"
      ]
    },
    {
      "cell_type": "markdown",
      "metadata": {
        "id": "pu4Ew5pCxOUV"
      },
      "source": [
        "# Faiss to find response-candidates"
      ]
    },
    {
      "cell_type": "code",
      "execution_count": 27,
      "metadata": {
        "colab": {
          "base_uri": "https://localhost:8080/"
        },
        "id": "bDsLUn9XxWrY",
        "outputId": "ae28bf4c-48ff-493b-da4c-b4bb6a73d983"
      },
      "outputs": [
        {
          "output_type": "stream",
          "name": "stdout",
          "text": [
            "(768,)\n"
          ]
        }
      ],
      "source": [
        "def embed_bert_cls(text: str, model, tokenizer) -> np.array:\n",
        "    t = tokenizer(text, padding=True, truncation=True, return_tensors='pt')\n",
        "    with torch.no_grad():\n",
        "        model_output = model(**{k: v.to(model.device) for k, v in t.items()})\n",
        "    embeddings = model_output.last_hidden_state[:, 0, :]\n",
        "    embeddings = torch.nn.functional.normalize(embeddings)\n",
        "    return embeddings[0].cpu().numpy()\n",
        "\n",
        "print(embed_bert_cls('hello, Homer', model.bert_model, model.bert_tokenizer).shape)"
      ]
    },
    {
      "cell_type": "code",
      "execution_count": null,
      "metadata": {
        "colab": {
          "base_uri": "https://localhost:8080/",
          "height": 49,
          "referenced_widgets": [
            "d1ac444c93584da2809783bcc7accc93",
            "84199234e93046a285f526cc52abf01a",
            "5ecd50b0b9804da0816ce8d405cbdcd8",
            "0ee59345f120494d81e4b04cc9c299be",
            "3e9687ae7130482682bac573b7731135",
            "e77d08c1c7b64c3c901882d7d6cbb170",
            "a5cc277aed634e149771c818236ec4f6",
            "c4163d44c9ed4beda218b029d8d168bb",
            "f1e3315e49074c77b2523bf626eba0d0",
            "75f24ecbeca046e795fbf27ff9fcf81d",
            "37dde1d85fc0453482707d4d6298292c"
          ]
        },
        "id": "C2EqZkrfx6HC",
        "outputId": "aebcd5e6-934f-486a-f8cb-3057dd20f035"
      },
      "outputs": [
        {
          "data": {
            "application/vnd.jupyter.widget-view+json": {
              "model_id": "d1ac444c93584da2809783bcc7accc93",
              "version_major": 2,
              "version_minor": 0
            },
            "text/plain": [
              "  0%|          | 0/121760 [00:00<?, ?it/s]"
            ]
          },
          "metadata": {},
          "output_type": "display_data"
        }
      ],
      "source": [
        "# base = np.array([embed_bert_cls('UNK' if not isinstance(phrase, str) else phrase, model.bert_model, model.bert_tokenizer) for phrase in tqdm(set(data['spoken_words']))])\n",
        "# np.save('/content/drive/MyDrive/models/base.npy', base)"
      ]
    },
    {
      "cell_type": "code",
      "execution_count": null,
      "metadata": {
        "id": "2Icnojf-6dw6"
      },
      "outputs": [],
      "source": [
        "#base = np.load('/content/drive/MyDrive/models/base.npy')"
      ]
    },
    {
      "cell_type": "code",
      "source": [
        "homer_phrases = raw_df[(~raw_df['spoken_words'].isna()) & (raw_df['raw_character_text']=='Homer Simpson')]\n",
        "homer_phrases_list = list()\n",
        "for ph in homer_phrases['spoken_words'].str.split('[.?!]').tolist():\n",
        "     homer_phrases_list.extend(ph)\n",
        "homer_phrases = list(set(homer_phrases_list))\n",
        "homer_base = np.array([embed_bert_cls('UNK' if len(phrase)<2 or not isinstance(phrase, str)  else phrase, model.bert_model, model.bert_tokenizer) for phrase in tqdm(homer_phrases)])"
      ],
      "metadata": {
        "colab": {
          "base_uri": "https://localhost:8080/",
          "height": 49,
          "referenced_widgets": [
            "40ae2cef87f241b4b67fad374bf95c1c",
            "ef8ddb329f43457ab4193e1ecd1b88ca",
            "98b8457a8f3149afbb9884b1f84670e8",
            "6a739c03a21149a886493c6a12952bf7",
            "b768a0a6e50d47369760f1370e1ff298",
            "90289e95d2044858ac0fe0100f3c168a",
            "b93f176e46ba4200a5a31b30ec55806e",
            "a5bdc0876d5a467bb174ff2682525897",
            "2fabc76b797548a094dc4e9559437770",
            "1dd834f331e544678ee481dc8cf39109",
            "06bedc98934d4af7b84bd5db5bc8afb3"
          ]
        },
        "id": "yQ9Z2eNVs8AX",
        "outputId": "fcb9a50e-c0e3-45b8-a08f-9bc2f6073753"
      },
      "execution_count": 81,
      "outputs": [
        {
          "data": {
            "application/vnd.jupyter.widget-view+json": {
              "model_id": "40ae2cef87f241b4b67fad374bf95c1c",
              "version_major": 2,
              "version_minor": 0
            },
            "text/plain": [
              "  0%|          | 0/40539 [00:00<?, ?it/s]"
            ]
          },
          "metadata": {},
          "output_type": "display_data"
        }
      ]
    },
    {
      "cell_type": "code",
      "source": [
        "np.save('app/model/homer_base.npy', homer_base)"
      ],
      "metadata": {
        "id": "_fU4NcNQtjPa"
      },
      "execution_count": 82,
      "outputs": []
    },
    {
      "cell_type": "code",
      "execution_count": 83,
      "metadata": {
        "id": "7EFKWFmvywId"
      },
      "outputs": [],
      "source": [
        "#index = faiss.IndexFlatL2(base.shape[1])\n",
        "index = faiss.IndexFlatL2(homer_base.shape[1])"
      ]
    },
    {
      "cell_type": "code",
      "execution_count": 84,
      "metadata": {
        "id": "AJ_2PKyg6NPp"
      },
      "outputs": [],
      "source": [
        "#index.add(base)\n",
        "index.add(homer_base)"
      ]
    },
    {
      "cell_type": "code",
      "execution_count": 113,
      "metadata": {
        "id": "khZMBJDY6s4d"
      },
      "outputs": [],
      "source": [
        "k = 4\n",
        "query = 'Woo Hoo'\n",
        "# xq = embed_bert_cls(query, model.bert_model, model.bert_tokenizer)\n",
        "# xq.shape\n",
        "pooled_embeds = encode(query, model.bert_tokenizer, model.bert_model, device)\n",
        "pooled_embeds = pooled_embeds.cpu().detach().numpy()"
      ]
    },
    {
      "cell_type": "code",
      "execution_count": 114,
      "metadata": {
        "colab": {
          "base_uri": "https://localhost:8080/"
        },
        "id": "PQ9fl4tO64hM",
        "outputId": "3ceb82f1-35da-4ba2-ff5c-6c770a430dcd"
      },
      "outputs": [
        {
          "output_type": "stream",
          "name": "stdout",
          "text": [
            "[[  328  3243 33417 34479   510  8020 34185  5919 10820 20781]]\n",
            "CPU times: user 20.6 ms, sys: 0 ns, total: 20.6 ms\n",
            "Wall time: 22.8 ms\n"
          ]
        }
      ],
      "source": [
        "%%time\n",
        "# D, I = index.search(xq.reshape(1, 768), 6)  # search\n",
        "D, I = index.search(pooled_embeds, 10)\n",
        "print(I)"
      ]
    },
    {
      "cell_type": "code",
      "execution_count": 115,
      "metadata": {
        "colab": {
          "base_uri": "https://localhost:8080/"
        },
        "id": "LGrp7MB67ITd",
        "outputId": "0dfebcb2-286f-481d-f99a-98fb27bba1ca"
      },
      "outputs": [
        {
          "output_type": "stream",
          "name": "stdout",
          "text": [
            " Woo hoo\n",
            "Woo Hoo\n",
            "Woo hoo\n",
            " Woo hoo hoo\n",
            "Woo hoo, hoo\n",
            "Woo hoo hoo hoo\n",
            " Woo hoo hoo hoo\n",
            " Woo-hoo\n",
            "Woo-hoo\n",
            "Woo-Hoo\n"
          ]
        }
      ],
      "source": [
        "candidates = [homer_phrases[i] for i in I[0]]\n",
        "for candidate in candidates:\n",
        "  print(candidate)"
      ]
    },
    {
      "cell_type": "markdown",
      "metadata": {
        "id": "nlnYckPXh0Qm"
      },
      "source": [
        "# Cross-Encoder to rerank candidates"
      ]
    },
    {
      "cell_type": "code",
      "execution_count": null,
      "metadata": {
        "colab": {
          "base_uri": "https://localhost:8080/"
        },
        "id": "sB4h68V9nuz3",
        "outputId": "b0ae35fa-fa8d-4e97-9e48-7d3b32b89b23"
      },
      "outputs": [
        {
          "name": "stdout",
          "output_type": "stream",
          "text": [
            "CPU times: user 24.2 s, sys: 2.2 s, total: 26.4 s\n",
            "Wall time: 20.4 s\n"
          ]
        }
      ],
      "source": [
        "%%time\n",
        "\n",
        "MAX_LENGTH = 128\n",
        "\n",
        "tokenized_texts = tokenizer([data[\"prompt\"] for data in dataset],\n",
        "                            [data[\"response\"] for data in dataset],\n",
        "                            max_length=MAX_LENGTH,\n",
        "                            padding=\"max_length\",\n",
        "                            truncation=True,\n",
        "                            verbose=True)"
      ]
    },
    {
      "cell_type": "code",
      "execution_count": null,
      "metadata": {
        "id": "F2V96gYaoCVx"
      },
      "outputs": [],
      "source": [
        "class CEDataset(Dataset):\n",
        "    def __init__(self, tokens: dict, labels: list[float]):\n",
        "        self.tokens = tokens\n",
        "        self.labels = labels\n",
        "\n",
        "    def __getitem__(self, ix: int) -> dict[str, torch.tensor]:\n",
        "        return {\n",
        "            \"input_ids\": torch.tensor(self.tokens[\"input_ids\"][ix], dtype=torch.long),\n",
        "            \"attention_mask\": torch.tensor(self.tokens[\"attention_mask\"][ix], dtype=torch.long),\n",
        "            \"labels\": torch.tensor(self.labels[ix], dtype=torch.float)  # Use float for regression\n",
        "        }\n",
        "\n",
        "    def __len__(self) -> int:\n",
        "        return len(self.tokens[\"input_ids\"])"
      ]
    },
    {
      "cell_type": "code",
      "execution_count": null,
      "metadata": {
        "colab": {
          "base_uri": "https://localhost:8080/"
        },
        "id": "j9GEn-FgoFfY",
        "outputId": "8afd72cc-ba22-4b39-d552-80c80d147f43"
      },
      "outputs": [
        {
          "name": "stdout",
          "output_type": "stream",
          "text": [
            "CPU times: user 11.6 ms, sys: 0 ns, total: 11.6 ms\n",
            "Wall time: 12.3 ms\n"
          ]
        }
      ],
      "source": [
        "%%time\n",
        "\n",
        "ce_dataset = CEDataset(tokenized_texts, [data[\"label\"] for data in dataset])"
      ]
    },
    {
      "cell_type": "code",
      "execution_count": null,
      "metadata": {
        "id": "-zy0Kg4GoK-M"
      },
      "outputs": [],
      "source": [
        "train_ratio = 0.8\n",
        "n_total = len(ce_dataset)\n",
        "n_train = int(n_total * train_ratio)\n",
        "n_val = n_total - n_train\n",
        "\n",
        "train_dataset, val_dataset = random_split(ce_dataset, [n_train, n_val]) # рандом, потому что данные можно перемешать, не потеряв суть\n",
        "\n",
        "batch_size = 16  # mentioned in the paper\n",
        "train_dataloader = DataLoader(train_dataset, batch_size=batch_size, shuffle=True)\n",
        "val_dataloader = DataLoader(val_dataset, batch_size=batch_size, shuffle=False)"
      ]
    },
    {
      "cell_type": "code",
      "execution_count": null,
      "metadata": {
        "colab": {
          "base_uri": "https://localhost:8080/"
        },
        "id": "xuNFJU5-oQj2",
        "outputId": "0327013f-24fb-40ad-d624-3098dafb9c43"
      },
      "outputs": [
        {
          "data": {
            "text/plain": [
              "(6234, 1559)"
            ]
          },
          "execution_count": 29,
          "metadata": {},
          "output_type": "execute_result"
        }
      ],
      "source": [
        "len(train_dataloader), len(val_dataloader)"
      ]
    },
    {
      "cell_type": "code",
      "execution_count": null,
      "metadata": {
        "id": "CchkrSdXoTBK"
      },
      "outputs": [],
      "source": [
        "class CrossEncoderBert(torch.nn.Module):\n",
        "    def __init__(self, max_length: int = MAX_LENGTH):\n",
        "        super().__init__()\n",
        "        self.max_length = max_length\n",
        "        self.bert_model = AutoModel.from_pretrained('distilbert-base-uncased')\n",
        "        self.bert_tokenizer = AutoTokenizer.from_pretrained('distilbert-base-uncased')\n",
        "        self.linear = torch.nn.Linear(self.bert_model.config.hidden_size, 1) # Предсказывать будет метку: оценка от 1 до 5\n",
        "\n",
        "    def forward(self, input_ids, attention_mask):\n",
        "        outputs = self.bert_model(input_ids=input_ids, attention_mask=attention_mask)\n",
        "        # (seq_len, bert_dim)\n",
        "        pooled_output = outputs.last_hidden_state[:,0] # Use the CLS token`s output (в нем весь текст)\n",
        "        return self.linear(pooled_output)"
      ]
    },
    {
      "cell_type": "code",
      "execution_count": null,
      "metadata": {
        "colab": {
          "base_uri": "https://localhost:8080/"
        },
        "id": "fZuP4WiaoVKR",
        "outputId": "b8a5c6be-4c06-4b83-ebfe-0cdc595dd001"
      },
      "outputs": [
        {
          "name": "stdout",
          "output_type": "stream",
          "text": [
            "All checks passed!\n"
          ]
        }
      ],
      "source": [
        "def test_cross_encoder_bert():\n",
        "    max_length = 128\n",
        "    model = CrossEncoderBert(max_length=max_length)\n",
        "\n",
        "    # Check __init__ method\n",
        "    assert model.max_length == max_length, \"Incorrect max_length initialization\"\n",
        "    assert isinstance(model.linear, torch.nn.Linear), \"linear is not an instance of torch.nn.Linear\"\n",
        "    assert model.linear.in_features == model.bert_model.config.hidden_size, \"Incorrect input size for linear layer\"\n",
        "\n",
        "    # Prepare dummy data for forward method check\n",
        "    input_text = [\"Hello, world!\"]\n",
        "    inputs = model.bert_tokenizer(input_text, return_tensors=\"pt\", max_length=max_length, truncation=True, padding=True)\n",
        "    input_ids = inputs[\"input_ids\"]\n",
        "    attention_mask = inputs[\"attention_mask\"]\n",
        "\n",
        "    # Check forward method\n",
        "    output = model(input_ids, attention_mask)\n",
        "    assert output.shape == (1, 1), \"Output shape is incorrect\"\n",
        "\n",
        "    print(\"All checks passed!\")\n",
        "\n",
        "test_cross_encoder_bert()"
      ]
    },
    {
      "cell_type": "code",
      "execution_count": null,
      "metadata": {
        "id": "wM6hybqMob49"
      },
      "outputs": [],
      "source": [
        "#  optimizer, lr, num_warmup steps have been picked from the paper\n",
        "optimizer = torch.optim.AdamW(model.parameters(), lr=3e-5)\n",
        "total_steps = len(train_dataset) // batch_size\n",
        "warmup_steps = int(0.1 * total_steps)\n",
        "scheduler = get_linear_schedule_with_warmup(optimizer, num_warmup_steps=warmup_steps,\n",
        "                                            num_training_steps=total_steps - warmup_steps)\n",
        "\n",
        "loss_fn = torch.nn.MSELoss() # Можно перейти к кросс-энтропии, но тогда нужно преобразовывать лейблы вначале"
      ]
    },
    {
      "cell_type": "code",
      "execution_count": null,
      "metadata": {
        "id": "FUGZOQXfo0ri"
      },
      "outputs": [],
      "source": [
        "ce_model = CrossEncoderBert().to(device)"
      ]
    },
    {
      "cell_type": "code",
      "execution_count": null,
      "metadata": {
        "id": "EoYK9angofpD"
      },
      "outputs": [],
      "source": [
        "def train_step_fn(model, optimizer, scheduler, loss_fn, batch):\n",
        "    model.train()\n",
        "    input_ids = batch['input_ids'].to(device)\n",
        "    attention_mask = batch['attention_mask'].to(device)\n",
        "    labels = batch['labels'].to(device)\n",
        "    optimizer.zero_grad()\n",
        "    logits = model(input_ids, attention_mask)\n",
        "    loss = loss_fn(logits.squeeze(-1), labels)\n",
        "    loss.backward()\n",
        "    optimizer.step()\n",
        "    scheduler.step()\n",
        "    return loss.item()\n",
        "\n",
        "def val_step_fn(model, loss_fn, batch):\n",
        "    model.eval()\n",
        "    input_ids = batch['input_ids'].to(device)\n",
        "    attention_mask = batch['attention_mask'].to(device)\n",
        "    labels = batch['labels'].to(device)\n",
        "    with torch.no_grad():\n",
        "        logits = model(input_ids, attention_mask)\n",
        "    loss = loss_fn(logits.squeeze(-1), labels)\n",
        "    return loss.item()\n",
        "\n",
        "def mini_batch(dataloader, step_fn, is_training=True):\n",
        "    mini_batch_losses = []\n",
        "    for i, batch in enumerate(dataloader):\n",
        "        if is_training:\n",
        "            loss = step_fn(ce_model, optimizer, scheduler, loss_fn, batch)\n",
        "        else:\n",
        "            loss = step_fn(ce_model, loss_fn, batch)\n",
        "        mini_batch_losses.append(loss)\n",
        "        if i % (batch_size * 4) == 0:\n",
        "            print(f\"Step {i:>5}/{len(dataloader)}, Loss = {loss:.3f}\")\n",
        "    return np.mean(mini_batch_losses), mini_batch_losses"
      ]
    },
    {
      "cell_type": "code",
      "execution_count": null,
      "metadata": {
        "colab": {
          "base_uri": "https://localhost:8080/"
        },
        "id": "IItDGRFtohfo",
        "outputId": "70df3be3-ebe9-4bba-8ef4-c201581d4cb3"
      },
      "outputs": [
        {
          "name": "stdout",
          "output_type": "stream",
          "text": [
            "\n",
            "Epoch 1\n",
            "Step     0/6234, Loss = 0.583\n",
            "Step    64/6234, Loss = 0.352\n",
            "Step   128/6234, Loss = 0.372\n",
            "Step   192/6234, Loss = 0.702\n",
            "Step   256/6234, Loss = 0.290\n",
            "Step   320/6234, Loss = 0.399\n",
            "Step   384/6234, Loss = 0.547\n",
            "Step   448/6234, Loss = 0.502\n",
            "Step   512/6234, Loss = 0.186\n",
            "Step   576/6234, Loss = 0.279\n",
            "Step   640/6234, Loss = 0.271\n",
            "Step   704/6234, Loss = 0.541\n",
            "Step   768/6234, Loss = 0.493\n",
            "Step   832/6234, Loss = 0.352\n",
            "Step   896/6234, Loss = 0.466\n",
            "Step   960/6234, Loss = 0.510\n",
            "Step  1024/6234, Loss = 0.202\n",
            "Step  1088/6234, Loss = 0.339\n",
            "Step  1152/6234, Loss = 0.513\n",
            "Step  1216/6234, Loss = 0.560\n",
            "Step  1280/6234, Loss = 0.348\n",
            "Step  1344/6234, Loss = 0.595\n",
            "Step  1408/6234, Loss = 0.687\n",
            "Step  1472/6234, Loss = 0.348\n",
            "Step  1536/6234, Loss = 0.543\n",
            "Step  1600/6234, Loss = 0.272\n",
            "Step  1664/6234, Loss = 0.613\n",
            "Step  1728/6234, Loss = 0.381\n",
            "Step  1792/6234, Loss = 0.345\n",
            "Step  1856/6234, Loss = 0.434\n",
            "Step  1920/6234, Loss = 0.377\n",
            "Step  1984/6234, Loss = 0.425\n",
            "Step  2048/6234, Loss = 0.153\n",
            "Step  2112/6234, Loss = 0.463\n",
            "Step  2176/6234, Loss = 0.654\n",
            "Step  2240/6234, Loss = 0.300\n",
            "Step  2304/6234, Loss = 0.683\n",
            "Step  2368/6234, Loss = 0.320\n",
            "Step  2432/6234, Loss = 0.503\n",
            "Step  2496/6234, Loss = 0.334\n",
            "Step  2560/6234, Loss = 0.297\n",
            "Step  2624/6234, Loss = 0.497\n",
            "Step  2688/6234, Loss = 0.553\n",
            "Step  2752/6234, Loss = 0.546\n",
            "Step  2816/6234, Loss = 0.469\n",
            "Step  2880/6234, Loss = 0.348\n",
            "Step  2944/6234, Loss = 0.157\n",
            "Step  3008/6234, Loss = 0.078\n",
            "Step  3072/6234, Loss = 0.499\n",
            "Step  3136/6234, Loss = 0.359\n",
            "Step  3200/6234, Loss = 0.094\n",
            "Step  3264/6234, Loss = 0.351\n",
            "Step  3328/6234, Loss = 0.557\n",
            "Step  3392/6234, Loss = 0.496\n",
            "Step  3456/6234, Loss = 0.463\n",
            "Step  3520/6234, Loss = 0.222\n",
            "Step  3584/6234, Loss = 0.314\n",
            "Step  3648/6234, Loss = 0.160\n",
            "Step  3712/6234, Loss = 0.492\n",
            "Step  3776/6234, Loss = 0.268\n",
            "Step  3840/6234, Loss = 0.638\n",
            "Step  3904/6234, Loss = 0.703\n",
            "Step  3968/6234, Loss = 0.336\n",
            "Step  4032/6234, Loss = 0.478\n",
            "Step  4096/6234, Loss = 0.368\n",
            "Step  4160/6234, Loss = 0.447\n",
            "Step  4224/6234, Loss = 0.462\n",
            "Step  4288/6234, Loss = 0.319\n",
            "Step  4352/6234, Loss = 0.211\n",
            "Step  4416/6234, Loss = 0.481\n",
            "Step  4480/6234, Loss = 0.283\n",
            "Step  4544/6234, Loss = 0.262\n",
            "Step  4608/6234, Loss = 0.521\n",
            "Step  4672/6234, Loss = 0.294\n",
            "Step  4736/6234, Loss = 0.806\n",
            "Step  4800/6234, Loss = 0.572\n",
            "Step  4864/6234, Loss = 0.342\n",
            "Step  4928/6234, Loss = 0.187\n",
            "Step  4992/6234, Loss = 0.317\n",
            "Step  5056/6234, Loss = 0.619\n",
            "Step  5120/6234, Loss = 0.530\n",
            "Step  5184/6234, Loss = 0.352\n",
            "Step  5248/6234, Loss = 0.984\n",
            "Step  5312/6234, Loss = 0.368\n",
            "Step  5376/6234, Loss = 0.315\n",
            "Step  5440/6234, Loss = 0.510\n",
            "Step  5504/6234, Loss = 0.529\n",
            "Step  5568/6234, Loss = 0.311\n",
            "Step  5632/6234, Loss = 0.241\n",
            "Step  5696/6234, Loss = 0.355\n",
            "Step  5760/6234, Loss = 0.603\n",
            "Step  5824/6234, Loss = 0.538\n",
            "Step  5888/6234, Loss = 0.454\n",
            "Step  5952/6234, Loss = 0.476\n",
            "Step  6016/6234, Loss = 0.648\n",
            "Step  6080/6234, Loss = 0.425\n",
            "Step  6144/6234, Loss = 0.492\n",
            "Step  6208/6234, Loss = 0.376\n",
            "Step     0/1559, Loss = 0.360\n",
            "Step    64/1559, Loss = 0.501\n",
            "Step   128/1559, Loss = 0.736\n",
            "Step   192/1559, Loss = 0.380\n",
            "Step   256/1559, Loss = 0.255\n",
            "Step   320/1559, Loss = 0.379\n",
            "Step   384/1559, Loss = 0.300\n",
            "Step   448/1559, Loss = 0.310\n",
            "Step   512/1559, Loss = 0.772\n",
            "Step   576/1559, Loss = 0.399\n",
            "Step   640/1559, Loss = 0.389\n",
            "Step   704/1559, Loss = 0.293\n",
            "Step   768/1559, Loss = 0.277\n",
            "Step   832/1559, Loss = 0.395\n",
            "Step   896/1559, Loss = 0.379\n",
            "Step   960/1559, Loss = 0.372\n",
            "Step  1024/1559, Loss = 0.504\n",
            "Step  1088/1559, Loss = 0.577\n",
            "Step  1152/1559, Loss = 0.194\n",
            "Step  1216/1559, Loss = 0.676\n",
            "Step  1280/1559, Loss = 0.552\n",
            "Step  1344/1559, Loss = 0.499\n",
            "Step  1408/1559, Loss = 0.684\n",
            "Step  1472/1559, Loss = 0.293\n",
            "Step  1536/1559, Loss = 0.489\n",
            "\n",
            "Epoch 2\n",
            "Step     0/6234, Loss = 0.628\n",
            "Step    64/6234, Loss = 0.551\n",
            "Step   128/6234, Loss = 0.273\n",
            "Step   192/6234, Loss = 0.259\n",
            "Step   256/6234, Loss = 0.511\n",
            "Step   320/6234, Loss = 0.455\n",
            "Step   384/6234, Loss = 0.259\n",
            "Step   448/6234, Loss = 0.524\n",
            "Step   512/6234, Loss = 0.284\n",
            "Step   576/6234, Loss = 0.300\n",
            "Step   640/6234, Loss = 0.503\n",
            "Step   704/6234, Loss = 0.277\n",
            "Step   768/6234, Loss = 0.570\n",
            "Step   832/6234, Loss = 0.502\n",
            "Step   896/6234, Loss = 0.587\n",
            "Step   960/6234, Loss = 0.435\n",
            "Step  1024/6234, Loss = 0.099\n",
            "Step  1088/6234, Loss = 0.393\n",
            "Step  1152/6234, Loss = 0.259\n",
            "Step  1216/6234, Loss = 0.514\n",
            "Step  1280/6234, Loss = 0.507\n",
            "Step  1344/6234, Loss = 0.181\n",
            "Step  1408/6234, Loss = 0.167\n",
            "Step  1472/6234, Loss = 0.267\n",
            "Step  1536/6234, Loss = 0.466\n",
            "Step  1600/6234, Loss = 0.242\n",
            "Step  1664/6234, Loss = 0.269\n",
            "Step  1728/6234, Loss = 0.366\n",
            "Step  1792/6234, Loss = 0.566\n",
            "Step  1856/6234, Loss = 0.230\n",
            "Step  1920/6234, Loss = 0.327\n",
            "Step  1984/6234, Loss = 0.290\n",
            "Step  2048/6234, Loss = 0.380\n",
            "Step  2112/6234, Loss = 0.558\n",
            "Step  2176/6234, Loss = 0.403\n",
            "Step  2240/6234, Loss = 0.073\n",
            "Step  2304/6234, Loss = 0.297\n",
            "Step  2368/6234, Loss = 0.541\n",
            "Step  2432/6234, Loss = 0.603\n",
            "Step  2496/6234, Loss = 0.233\n",
            "Step  2560/6234, Loss = 0.244\n",
            "Step  2624/6234, Loss = 0.692\n",
            "Step  2688/6234, Loss = 0.488\n",
            "Step  2752/6234, Loss = 0.432\n",
            "Step  2816/6234, Loss = 0.284\n",
            "Step  2880/6234, Loss = 0.458\n",
            "Step  2944/6234, Loss = 0.563\n",
            "Step  3008/6234, Loss = 0.278\n",
            "Step  3072/6234, Loss = 0.430\n",
            "Step  3136/6234, Loss = 0.168\n",
            "Step  3200/6234, Loss = 0.267\n",
            "Step  3264/6234, Loss = 0.280\n",
            "Step  3328/6234, Loss = 0.320\n",
            "Step  3392/6234, Loss = 0.295\n",
            "Step  3456/6234, Loss = 0.409\n",
            "Step  3520/6234, Loss = 0.460\n",
            "Step  3584/6234, Loss = 0.169\n",
            "Step  3648/6234, Loss = 0.305\n",
            "Step  3712/6234, Loss = 0.541\n",
            "Step  3776/6234, Loss = 0.281\n",
            "Step  3840/6234, Loss = 0.345\n",
            "Step  3904/6234, Loss = 0.100\n",
            "Step  3968/6234, Loss = 0.202\n",
            "Step  4032/6234, Loss = 0.398\n",
            "Step  4096/6234, Loss = 0.452\n",
            "Step  4160/6234, Loss = 0.082\n",
            "Step  4224/6234, Loss = 0.384\n",
            "Step  4288/6234, Loss = 0.381\n",
            "Step  4352/6234, Loss = 0.267\n",
            "Step  4416/6234, Loss = 0.173\n",
            "Step  4480/6234, Loss = 0.374\n",
            "Step  4544/6234, Loss = 0.754\n",
            "Step  4608/6234, Loss = 0.355\n",
            "Step  4672/6234, Loss = 0.455\n",
            "Step  4736/6234, Loss = 0.736\n",
            "Step  4800/6234, Loss = 0.486\n",
            "Step  4864/6234, Loss = 0.528\n",
            "Step  4928/6234, Loss = 0.380\n",
            "Step  4992/6234, Loss = 0.417\n",
            "Step  5056/6234, Loss = 0.350\n",
            "Step  5120/6234, Loss = 0.516\n",
            "Step  5184/6234, Loss = 0.591\n",
            "Step  5248/6234, Loss = 0.265\n",
            "Step  5312/6234, Loss = 0.246\n",
            "Step  5376/6234, Loss = 0.387\n",
            "Step  5440/6234, Loss = 0.658\n",
            "Step  5504/6234, Loss = 0.636\n",
            "Step  5568/6234, Loss = 0.272\n",
            "Step  5632/6234, Loss = 0.376\n",
            "Step  5696/6234, Loss = 0.497\n",
            "Step  5760/6234, Loss = 0.286\n",
            "Step  5824/6234, Loss = 0.427\n",
            "Step  5888/6234, Loss = 0.290\n",
            "Step  5952/6234, Loss = 0.314\n",
            "Step  6016/6234, Loss = 0.414\n",
            "Step  6080/6234, Loss = 0.302\n",
            "Step  6144/6234, Loss = 0.355\n",
            "Step  6208/6234, Loss = 0.075\n",
            "Step     0/1559, Loss = 0.360\n",
            "Step    64/1559, Loss = 0.501\n",
            "Step   128/1559, Loss = 0.736\n",
            "Step   192/1559, Loss = 0.380\n",
            "Step   256/1559, Loss = 0.255\n",
            "Step   320/1559, Loss = 0.379\n",
            "Step   384/1559, Loss = 0.300\n",
            "Step   448/1559, Loss = 0.310\n",
            "Step   512/1559, Loss = 0.772\n",
            "Step   576/1559, Loss = 0.399\n",
            "Step   640/1559, Loss = 0.389\n",
            "Step   704/1559, Loss = 0.293\n",
            "Step   768/1559, Loss = 0.277\n",
            "Step   832/1559, Loss = 0.395\n",
            "Step   896/1559, Loss = 0.379\n",
            "Step   960/1559, Loss = 0.372\n",
            "Step  1024/1559, Loss = 0.504\n",
            "Step  1088/1559, Loss = 0.577\n",
            "Step  1152/1559, Loss = 0.194\n",
            "Step  1216/1559, Loss = 0.676\n",
            "Step  1280/1559, Loss = 0.552\n",
            "Step  1344/1559, Loss = 0.499\n",
            "Step  1408/1559, Loss = 0.684\n",
            "Step  1472/1559, Loss = 0.293\n",
            "Step  1536/1559, Loss = 0.489\n",
            "CPU times: user 36min 40s, sys: 3.94 s, total: 36min 44s\n",
            "Wall time: 37min 3s\n"
          ]
        }
      ],
      "source": [
        "%%time\n",
        "\n",
        "n_epochs = 2 # Модель быстро начинает переобучаться\n",
        "\n",
        "train_losses, train_mini_batch_losses = [], []\n",
        "val_losses, val_mini_batch_losses = [], []\n",
        "\n",
        "for epoch in range(1, n_epochs + 1):\n",
        "    print(f\"\\nEpoch {epoch}\")\n",
        "    train_loss, _train_mini_batch_losses = mini_batch(train_dataloader, train_step_fn, is_training=True)\n",
        "    train_mini_batch_losses.extend(_train_mini_batch_losses)\n",
        "    train_losses.append(train_loss)\n",
        "\n",
        "    with torch.no_grad():\n",
        "        val_loss, _val_mini_batch_losses = mini_batch(val_dataloader, val_step_fn, is_training=False)\n",
        "        val_mini_batch_losses.extend(_val_mini_batch_losses)\n",
        "        val_losses.append(val_loss)"
      ]
    },
    {
      "cell_type": "code",
      "execution_count": null,
      "metadata": {
        "id": "yHNj7ltjpYuY"
      },
      "outputs": [],
      "source": [
        "window_size = 32\n",
        "\n",
        "train_mb_running_loss = []\n",
        "for i in range(len(train_mini_batch_losses)-window_size):\n",
        "    train_mb_running_loss.append(np.mean(train_mini_batch_losses[i:i+window_size]))\n",
        "\n",
        "val_mb_running_loss = []\n",
        "for i in range(len(val_mini_batch_losses)-window_size):\n",
        "    val_mb_running_loss.append(np.mean(val_mini_batch_losses[i:i+window_size]))"
      ]
    },
    {
      "cell_type": "code",
      "execution_count": null,
      "metadata": {
        "colab": {
          "base_uri": "https://localhost:8080/",
          "height": 676
        },
        "id": "kv1wRrNQpaoy",
        "outputId": "f04fe23f-1397-47a1-ba2e-5ca6755d6b2b"
      },
      "outputs": [
        {
          "data": {
            "image/png": "[encoded data removed]",
            "text/plain": [
              "<Figure size 1400x800 with 1 Axes>"
            ]
          },
          "metadata": {},
          "output_type": "display_data"
        }
      ],
      "source": [
        "fix, ax = plt.subplots(figsize=(14, 8))\n",
        "ax.plot(range(len(train_mb_running_loss)), train_mb_running_loss);"
      ]
    },
    {
      "cell_type": "code",
      "execution_count": null,
      "metadata": {
        "id": "cwPj7XU2pf-p"
      },
      "outputs": [],
      "source": [
        "def get_ranked_docs(\n",
        "    tokenizer: AutoTokenizer, finetuned_ce: CrossEncoderBert,\n",
        "    base_bert: AutoModel, query: str, corpus: list[str]\n",
        ") -> None:\n",
        "\n",
        "    queries = [query] * len(corpus)\n",
        "    tokenized_texts = tokenizer(\n",
        "        queries, corpus, max_length=MAX_LENGTH, padding=True, truncation=True, return_tensors=\"pt\"\n",
        "    ).to(device)\n",
        "\n",
        "    # Finetuned CrossEncoder model scoring\n",
        "    with torch.no_grad():\n",
        "        ce_scores = finetuned_ce(tokenized_texts['input_ids'], tokenized_texts['attention_mask']).squeeze(-1)\n",
        "        ce_scores = torch.sigmoid(ce_scores)  # Apply sigmoid if needed\n",
        "\n",
        "    # Base Bert model scoring\n",
        "    with torch.no_grad():\n",
        "        base_bert_outputs = base_bert(**tokenized_texts)\n",
        "        bert_scores = torch.sigmoid(finetuned_ce.linear(base_bert_outputs.last_hidden_state[:, 0, :]))  # Use CLS token output\n",
        "\n",
        "    # Process scores for finetuned model\n",
        "    print(f\"Query - {query} [Finetuned Cross-Encoder]\\n---\")\n",
        "    scores = ce_scores.cpu().numpy()\n",
        "    scores_ix = np.argsort(scores)[::-1]\n",
        "    for ix in scores_ix:  # Limit to corpus size\n",
        "        print(f\"{scores[ix]: >.2f}\\t{corpus[ix]}\")\n",
        "\n",
        "    # Process scores for base Bert model\n",
        "    print(f\"\\nQuery - {query} [Bert Base]\\n---\")\n",
        "    scores = bert_scores.cpu().numpy().squeeze(-1)\n",
        "    scores_ix = np.argsort(scores)[::-1]\n",
        "    for ix in scores_ix:  # Limit to corpus size\n",
        "        print(f\"{scores[ix]: >.2f}\\t{corpus[ix]}\")"
      ]
    },
    {
      "cell_type": "code",
      "execution_count": null,
      "metadata": {
        "id": "H-EaOCEX16kZ"
      },
      "outputs": [],
      "source": [
        "bert_model = AutoModel.from_pretrained(\"distilbert-base-uncased\")"
      ]
    },
    {
      "cell_type": "code",
      "execution_count": null,
      "metadata": {
        "colab": {
          "base_uri": "https://localhost:8080/"
        },
        "id": "RhJ4GTOWphRB",
        "outputId": "cbd16733-7f43-448a-a182-fd656a074a49"
      },
      "outputs": [
        {
          "name": "stdout",
          "output_type": "stream",
          "text": [
            "Query - Where is Bart [Finetuned Cross-Encoder]\n",
            "---\n",
            "0.47\tTWO PLUS TWO IS FOUR / TWO PLUS TWO IS FOUR.... / TWO PLUS TWO IS FOUR....\n",
            "0.46\tWELL\\WELL\\WELL...W-W-W-WELL\\WELL\\WELL...\n",
            "0.45\tWell, the standard form is under, over, under, over, under, under, under, under, under, over, over, under, under, under, around, over, over, under...\n",
            "0.43\tThe sum of the square roots of any two sides of an isosceles triangle is equal to the square root of the remaining side.\n",
            "0.43\tThe sum of the square roots of any two sides of an isosceles triangle is equal to the square root of the remaining sides.\n",
            "0.43\tFractions aren't that hard, you just have to find a common denominator. For example: one half plus one third equals...\n",
            "0.42\tBe be be be be.\n",
            "0.42\tAnd the number e. Not the letter e, but the number whose exponential function is the derivative of itself.\n",
            "0.42\t...assuming a linear growth model...\n",
            "0.42\tHere, the solution is a square.\n",
            "\n",
            "Query - Where is Bart [Bert Base]\n",
            "---\n",
            "0.47\tTWO PLUS TWO IS FOUR / TWO PLUS TWO IS FOUR.... / TWO PLUS TWO IS FOUR....\n",
            "0.46\tWELL\\WELL\\WELL...W-W-W-WELL\\WELL\\WELL...\n",
            "0.45\tWell, the standard form is under, over, under, over, under, under, under, under, under, over, over, under, under, under, around, over, over, under...\n",
            "0.43\tThe sum of the square roots of any two sides of an isosceles triangle is equal to the square root of the remaining side.\n",
            "0.43\tThe sum of the square roots of any two sides of an isosceles triangle is equal to the square root of the remaining sides.\n",
            "0.43\tFractions aren't that hard, you just have to find a common denominator. For example: one half plus one third equals...\n",
            "0.42\tBe be be be be.\n",
            "0.42\tAnd the number e. Not the letter e, but the number whose exponential function is the derivative of itself.\n",
            "0.42\t...assuming a linear growth model...\n",
            "0.42\tHere, the solution is a square.\n"
          ]
        }
      ],
      "source": [
        "get_ranked_docs(tokenizer, ce_model, bert_model.to(device), query, candidates)"
      ]
    },
    {
      "cell_type": "code",
      "execution_count": null,
      "metadata": {
        "id": "QOpe2Ld3s00t"
      },
      "outputs": [],
      "source": [
        "ce_model.bert_model.save_pretrained(\"/content/drive/MyDrive/models/ce_bert\")"
      ]
    }
  ],
  "metadata": {
    "colab": {
      "provenance": [],
      "gpuType": "T4"
    },
    "kernelspec": {
      "display_name": "Python 3",
      "name": "python3"
    },
    "language_info": {
      "name": "python"
    },
    "widgets": {
      "application/vnd.jupyter.widget-state+json": {
        "0ee59345f120494d81e4b04cc9c299be": {
          "model_module": "@jupyter-widgets/controls",
          "model_module_version": "1.5.0",
          "model_name": "HTMLModel",
          "state": {
            "_dom_classes": [],
            "_model_module": "@jupyter-widgets/controls",
            "_model_module_version": "1.5.0",
            "_model_name": "HTMLModel",
            "_view_count": null,
            "_view_module": "@jupyter-widgets/controls",
            "_view_module_version": "1.5.0",
            "_view_name": "HTMLView",
            "description": "",
            "description_tooltip": null,
            "layout": "IPY_MODEL_75f24ecbeca046e795fbf27ff9fcf81d",
            "placeholder": "​",
            "style": "IPY_MODEL_37dde1d85fc0453482707d4d6298292c",
            "value": " 121760/121760 [1:30:24&lt;00:00, 19.59it/s]"
          }
        },
        "37dde1d85fc0453482707d4d6298292c": {
          "model_module": "@jupyter-widgets/controls",
          "model_module_version": "1.5.0",
          "model_name": "DescriptionStyleModel",
          "state": {
            "_model_module": "@jupyter-widgets/controls",
            "_model_module_version": "1.5.0",
            "_model_name": "DescriptionStyleModel",
            "_view_count": null,
            "_view_module": "@jupyter-widgets/base",
            "_view_module_version": "1.2.0",
            "_view_name": "StyleView",
            "description_width": ""
          }
        },
        "3e9687ae7130482682bac573b7731135": {
          "model_module": "@jupyter-widgets/base",
          "model_module_version": "1.2.0",
          "model_name": "LayoutModel",
          "state": {
            "_model_module": "@jupyter-widgets/base",
            "_model_module_version": "1.2.0",
            "_model_name": "LayoutModel",
            "_view_count": null,
            "_view_module": "@jupyter-widgets/base",
            "_view_module_version": "1.2.0",
            "_view_name": "LayoutView",
            "align_content": null,
            "align_items": null,
            "align_self": null,
            "border": null,
            "bottom": null,
            "display": null,
            "flex": null,
            "flex_flow": null,
            "grid_area": null,
            "grid_auto_columns": null,
            "grid_auto_flow": null,
            "grid_auto_rows": null,
            "grid_column": null,
            "grid_gap": null,
            "grid_row": null,
            "grid_template_areas": null,
            "grid_template_columns": null,
            "grid_template_rows": null,
            "height": null,
            "justify_content": null,
            "justify_items": null,
            "left": null,
            "margin": null,
            "max_height": null,
            "max_width": null,
            "min_height": null,
            "min_width": null,
            "object_fit": null,
            "object_position": null,
            "order": null,
            "overflow": null,
            "overflow_x": null,
            "overflow_y": null,
            "padding": null,
            "right": null,
            "top": null,
            "visibility": null,
            "width": null
          }
        },
        "5ecd50b0b9804da0816ce8d405cbdcd8": {
          "model_module": "@jupyter-widgets/controls",
          "model_module_version": "1.5.0",
          "model_name": "FloatProgressModel",
          "state": {
            "_dom_classes": [],
            "_model_module": "@jupyter-widgets/controls",
            "_model_module_version": "1.5.0",
            "_model_name": "FloatProgressModel",
            "_view_count": null,
            "_view_module": "@jupyter-widgets/controls",
            "_view_module_version": "1.5.0",
            "_view_name": "ProgressView",
            "bar_style": "success",
            "description": "",
            "description_tooltip": null,
            "layout": "IPY_MODEL_c4163d44c9ed4beda218b029d8d168bb",
            "max": 121760,
            "min": 0,
            "orientation": "horizontal",
            "style": "IPY_MODEL_f1e3315e49074c77b2523bf626eba0d0",
            "value": 121760
          }
        },
        "75f24ecbeca046e795fbf27ff9fcf81d": {
          "model_module": "@jupyter-widgets/base",
          "model_module_version": "1.2.0",
          "model_name": "LayoutModel",
          "state": {
            "_model_module": "@jupyter-widgets/base",
            "_model_module_version": "1.2.0",
            "_model_name": "LayoutModel",
            "_view_count": null,
            "_view_module": "@jupyter-widgets/base",
            "_view_module_version": "1.2.0",
            "_view_name": "LayoutView",
            "align_content": null,
            "align_items": null,
            "align_self": null,
            "border": null,
            "bottom": null,
            "display": null,
            "flex": null,
            "flex_flow": null,
            "grid_area": null,
            "grid_auto_columns": null,
            "grid_auto_flow": null,
            "grid_auto_rows": null,
            "grid_column": null,
            "grid_gap": null,
            "grid_row": null,
            "grid_template_areas": null,
            "grid_template_columns": null,
            "grid_template_rows": null,
            "height": null,
            "justify_content": null,
            "justify_items": null,
            "left": null,
            "margin": null,
            "max_height": null,
            "max_width": null,
            "min_height": null,
            "min_width": null,
            "object_fit": null,
            "object_position": null,
            "order": null,
            "overflow": null,
            "overflow_x": null,
            "overflow_y": null,
            "padding": null,
            "right": null,
            "top": null,
            "visibility": null,
            "width": null
          }
        },
        "84199234e93046a285f526cc52abf01a": {
          "model_module": "@jupyter-widgets/controls",
          "model_module_version": "1.5.0",
          "model_name": "HTMLModel",
          "state": {
            "_dom_classes": [],
            "_model_module": "@jupyter-widgets/controls",
            "_model_module_version": "1.5.0",
            "_model_name": "HTMLModel",
            "_view_count": null,
            "_view_module": "@jupyter-widgets/controls",
            "_view_module_version": "1.5.0",
            "_view_name": "HTMLView",
            "description": "",
            "description_tooltip": null,
            "layout": "IPY_MODEL_e77d08c1c7b64c3c901882d7d6cbb170",
            "placeholder": "​",
            "style": "IPY_MODEL_a5cc277aed634e149771c818236ec4f6",
            "value": "100%"
          }
        },
        "a5cc277aed634e149771c818236ec4f6": {
          "model_module": "@jupyter-widgets/controls",
          "model_module_version": "1.5.0",
          "model_name": "DescriptionStyleModel",
          "state": {
            "_model_module": "@jupyter-widgets/controls",
            "_model_module_version": "1.5.0",
            "_model_name": "DescriptionStyleModel",
            "_view_count": null,
            "_view_module": "@jupyter-widgets/base",
            "_view_module_version": "1.2.0",
            "_view_name": "StyleView",
            "description_width": ""
          }
        },
        "c4163d44c9ed4beda218b029d8d168bb": {
          "model_module": "@jupyter-widgets/base",
          "model_module_version": "1.2.0",
          "model_name": "LayoutModel",
          "state": {
            "_model_module": "@jupyter-widgets/base",
            "_model_module_version": "1.2.0",
            "_model_name": "LayoutModel",
            "_view_count": null,
            "_view_module": "@jupyter-widgets/base",
            "_view_module_version": "1.2.0",
            "_view_name": "LayoutView",
            "align_content": null,
            "align_items": null,
            "align_self": null,
            "border": null,
            "bottom": null,
            "display": null,
            "flex": null,
            "flex_flow": null,
            "grid_area": null,
            "grid_auto_columns": null,
            "grid_auto_flow": null,
            "grid_auto_rows": null,
            "grid_column": null,
            "grid_gap": null,
            "grid_row": null,
            "grid_template_areas": null,
            "grid_template_columns": null,
            "grid_template_rows": null,
            "height": null,
            "justify_content": null,
            "justify_items": null,
            "left": null,
            "margin": null,
            "max_height": null,
            "max_width": null,
            "min_height": null,
            "min_width": null,
            "object_fit": null,
            "object_position": null,
            "order": null,
            "overflow": null,
            "overflow_x": null,
            "overflow_y": null,
            "padding": null,
            "right": null,
            "top": null,
            "visibility": null,
            "width": null
          }
        },
        "d1ac444c93584da2809783bcc7accc93": {
          "model_module": "@jupyter-widgets/controls",
          "model_module_version": "1.5.0",
          "model_name": "HBoxModel",
          "state": {
            "_dom_classes": [],
            "_model_module": "@jupyter-widgets/controls",
            "_model_module_version": "1.5.0",
            "_model_name": "HBoxModel",
            "_view_count": null,
            "_view_module": "@jupyter-widgets/controls",
            "_view_module_version": "1.5.0",
            "_view_name": "HBoxView",
            "box_style": "",
            "children": [
              "IPY_MODEL_84199234e93046a285f526cc52abf01a",
              "IPY_MODEL_5ecd50b0b9804da0816ce8d405cbdcd8",
              "IPY_MODEL_0ee59345f120494d81e4b04cc9c299be"
            ],
            "layout": "IPY_MODEL_3e9687ae7130482682bac573b7731135"
          }
        },
        "e77d08c1c7b64c3c901882d7d6cbb170": {
          "model_module": "@jupyter-widgets/base",
          "model_module_version": "1.2.0",
          "model_name": "LayoutModel",
          "state": {
            "_model_module": "@jupyter-widgets/base",
            "_model_module_version": "1.2.0",
            "_model_name": "LayoutModel",
            "_view_count": null,
            "_view_module": "@jupyter-widgets/base",
            "_view_module_version": "1.2.0",
            "_view_name": "LayoutView",
            "align_content": null,
            "align_items": null,
            "align_self": null,
            "border": null,
            "bottom": null,
            "display": null,
            "flex": null,
            "flex_flow": null,
            "grid_area": null,
            "grid_auto_columns": null,
            "grid_auto_flow": null,
            "grid_auto_rows": null,
            "grid_column": null,
            "grid_gap": null,
            "grid_row": null,
            "grid_template_areas": null,
            "grid_template_columns": null,
            "grid_template_rows": null,
            "height": null,
            "justify_content": null,
            "justify_items": null,
            "left": null,
            "margin": null,
            "max_height": null,
            "max_width": null,
            "min_height": null,
            "min_width": null,
            "object_fit": null,
            "object_position": null,
            "order": null,
            "overflow": null,
            "overflow_x": null,
            "overflow_y": null,
            "padding": null,
            "right": null,
            "top": null,
            "visibility": null,
            "width": null
          }
        },
        "f1e3315e49074c77b2523bf626eba0d0": {
          "model_module": "@jupyter-widgets/controls",
          "model_module_version": "1.5.0",
          "model_name": "ProgressStyleModel",
          "state": {
            "_model_module": "@jupyter-widgets/controls",
            "_model_module_version": "1.5.0",
            "_model_name": "ProgressStyleModel",
            "_view_count": null,
            "_view_module": "@jupyter-widgets/base",
            "_view_module_version": "1.2.0",
            "_view_name": "StyleView",
            "bar_color": null,
            "description_width": ""
          }
        },
        "df79e86d81754fc7a37c2e0812f7d601": {
          "model_module": "@jupyter-widgets/controls",
          "model_name": "HBoxModel",
          "model_module_version": "1.5.0",
          "state": {
            "_dom_classes": [],
            "_model_module": "@jupyter-widgets/controls",
            "_model_module_version": "1.5.0",
            "_model_name": "HBoxModel",
            "_view_count": null,
            "_view_module": "@jupyter-widgets/controls",
            "_view_module_version": "1.5.0",
            "_view_name": "HBoxView",
            "box_style": "",
            "children": [
              "IPY_MODEL_7cda26c11cb94b8daf869655f65e34c3",
              "IPY_MODEL_6cf3b09a353944d08ddf21a196e882cb",
              "IPY_MODEL_908bcbc268f540438606ad69e0d49f09"
            ],
            "layout": "IPY_MODEL_dd43add893804c5d891b2226676518c1"
          }
        },
        "7cda26c11cb94b8daf869655f65e34c3": {
          "model_module": "@jupyter-widgets/controls",
          "model_name": "HTMLModel",
          "model_module_version": "1.5.0",
          "state": {
            "_dom_classes": [],
            "_model_module": "@jupyter-widgets/controls",
            "_model_module_version": "1.5.0",
            "_model_name": "HTMLModel",
            "_view_count": null,
            "_view_module": "@jupyter-widgets/controls",
            "_view_module_version": "1.5.0",
            "_view_name": "HTMLView",
            "description": "",
            "description_tooltip": null,
            "layout": "IPY_MODEL_69b223e2527a41008defd4353769ab74",
            "placeholder": "​",
            "style": "IPY_MODEL_4308011bd3ef4d0da387c398879ce8af",
            "value": "tokenizer_config.json: 100%"
          }
        },
        "6cf3b09a353944d08ddf21a196e882cb": {
          "model_module": "@jupyter-widgets/controls",
          "model_name": "FloatProgressModel",
          "model_module_version": "1.5.0",
          "state": {
            "_dom_classes": [],
            "_model_module": "@jupyter-widgets/controls",
            "_model_module_version": "1.5.0",
            "_model_name": "FloatProgressModel",
            "_view_count": null,
            "_view_module": "@jupyter-widgets/controls",
            "_view_module_version": "1.5.0",
            "_view_name": "ProgressView",
            "bar_style": "success",
            "description": "",
            "description_tooltip": null,
            "layout": "IPY_MODEL_b5de48adf9284992a90661d5ed36366b",
            "max": 28,
            "min": 0,
            "orientation": "horizontal",
            "style": "IPY_MODEL_0c99d9cea6a842c0a6ca43660c9176a6",
            "value": 28
          }
        },
        "908bcbc268f540438606ad69e0d49f09": {
          "model_module": "@jupyter-widgets/controls",
          "model_name": "HTMLModel",
          "model_module_version": "1.5.0",
          "state": {
            "_dom_classes": [],
            "_model_module": "@jupyter-widgets/controls",
            "_model_module_version": "1.5.0",
            "_model_name": "HTMLModel",
            "_view_count": null,
            "_view_module": "@jupyter-widgets/controls",
            "_view_module_version": "1.5.0",
            "_view_name": "HTMLView",
            "description": "",
            "description_tooltip": null,
            "layout": "IPY_MODEL_5ab2f0d888aa47878acf389672898594",
            "placeholder": "​",
            "style": "IPY_MODEL_3d19cf51f8194c3ea813542320c7ee76",
            "value": " 28.0/28.0 [00:00&lt;00:00, 582B/s]"
          }
        },
        "dd43add893804c5d891b2226676518c1": {
          "model_module": "@jupyter-widgets/base",
          "model_name": "LayoutModel",
          "model_module_version": "1.2.0",
          "state": {
            "_model_module": "@jupyter-widgets/base",
            "_model_module_version": "1.2.0",
            "_model_name": "LayoutModel",
            "_view_count": null,
            "_view_module": "@jupyter-widgets/base",
            "_view_module_version": "1.2.0",
            "_view_name": "LayoutView",
            "align_content": null,
            "align_items": null,
            "align_self": null,
            "border": null,
            "bottom": null,
            "display": null,
            "flex": null,
            "flex_flow": null,
            "grid_area": null,
            "grid_auto_columns": null,
            "grid_auto_flow": null,
            "grid_auto_rows": null,
            "grid_column": null,
            "grid_gap": null,
            "grid_row": null,
            "grid_template_areas": null,
            "grid_template_columns": null,
            "grid_template_rows": null,
            "height": null,
            "justify_content": null,
            "justify_items": null,
            "left": null,
            "margin": null,
            "max_height": null,
            "max_width": null,
            "min_height": null,
            "min_width": null,
            "object_fit": null,
            "object_position": null,
            "order": null,
            "overflow": null,
            "overflow_x": null,
            "overflow_y": null,
            "padding": null,
            "right": null,
            "top": null,
            "visibility": null,
            "width": null
          }
        },
        "69b223e2527a41008defd4353769ab74": {
          "model_module": "@jupyter-widgets/base",
          "model_name": "LayoutModel",
          "model_module_version": "1.2.0",
          "state": {
            "_model_module": "@jupyter-widgets/base",
            "_model_module_version": "1.2.0",
            "_model_name": "LayoutModel",
            "_view_count": null,
            "_view_module": "@jupyter-widgets/base",
            "_view_module_version": "1.2.0",
            "_view_name": "LayoutView",
            "align_content": null,
            "align_items": null,
            "align_self": null,
            "border": null,
            "bottom": null,
            "display": null,
            "flex": null,
            "flex_flow": null,
            "grid_area": null,
            "grid_auto_columns": null,
            "grid_auto_flow": null,
            "grid_auto_rows": null,
            "grid_column": null,
            "grid_gap": null,
            "grid_row": null,
            "grid_template_areas": null,
            "grid_template_columns": null,
            "grid_template_rows": null,
            "height": null,
            "justify_content": null,
            "justify_items": null,
            "left": null,
            "margin": null,
            "max_height": null,
            "max_width": null,
            "min_height": null,
            "min_width": null,
            "object_fit": null,
            "object_position": null,
            "order": null,
            "overflow": null,
            "overflow_x": null,
            "overflow_y": null,
            "padding": null,
            "right": null,
            "top": null,
            "visibility": null,
            "width": null
          }
        },
        "4308011bd3ef4d0da387c398879ce8af": {
          "model_module": "@jupyter-widgets/controls",
          "model_name": "DescriptionStyleModel",
          "model_module_version": "1.5.0",
          "state": {
            "_model_module": "@jupyter-widgets/controls",
            "_model_module_version": "1.5.0",
            "_model_name": "DescriptionStyleModel",
            "_view_count": null,
            "_view_module": "@jupyter-widgets/base",
            "_view_module_version": "1.2.0",
            "_view_name": "StyleView",
            "description_width": ""
          }
        },
        "b5de48adf9284992a90661d5ed36366b": {
          "model_module": "@jupyter-widgets/base",
          "model_name": "LayoutModel",
          "model_module_version": "1.2.0",
          "state": {
            "_model_module": "@jupyter-widgets/base",
            "_model_module_version": "1.2.0",
            "_model_name": "LayoutModel",
            "_view_count": null,
            "_view_module": "@jupyter-widgets/base",
            "_view_module_version": "1.2.0",
            "_view_name": "LayoutView",
            "align_content": null,
            "align_items": null,
            "align_self": null,
            "border": null,
            "bottom": null,
            "display": null,
            "flex": null,
            "flex_flow": null,
            "grid_area": null,
            "grid_auto_columns": null,
            "grid_auto_flow": null,
            "grid_auto_rows": null,
            "grid_column": null,
            "grid_gap": null,
            "grid_row": null,
            "grid_template_areas": null,
            "grid_template_columns": null,
            "grid_template_rows": null,
            "height": null,
            "justify_content": null,
            "justify_items": null,
            "left": null,
            "margin": null,
            "max_height": null,
            "max_width": null,
            "min_height": null,
            "min_width": null,
            "object_fit": null,
            "object_position": null,
            "order": null,
            "overflow": null,
            "overflow_x": null,
            "overflow_y": null,
            "padding": null,
            "right": null,
            "top": null,
            "visibility": null,
            "width": null
          }
        },
        "0c99d9cea6a842c0a6ca43660c9176a6": {
          "model_module": "@jupyter-widgets/controls",
          "model_name": "ProgressStyleModel",
          "model_module_version": "1.5.0",
          "state": {
            "_model_module": "@jupyter-widgets/controls",
            "_model_module_version": "1.5.0",
            "_model_name": "ProgressStyleModel",
            "_view_count": null,
            "_view_module": "@jupyter-widgets/base",
            "_view_module_version": "1.2.0",
            "_view_name": "StyleView",
            "bar_color": null,
            "description_width": ""
          }
        },
        "5ab2f0d888aa47878acf389672898594": {
          "model_module": "@jupyter-widgets/base",
          "model_name": "LayoutModel",
          "model_module_version": "1.2.0",
          "state": {
            "_model_module": "@jupyter-widgets/base",
            "_model_module_version": "1.2.0",
            "_model_name": "LayoutModel",
            "_view_count": null,
            "_view_module": "@jupyter-widgets/base",
            "_view_module_version": "1.2.0",
            "_view_name": "LayoutView",
            "align_content": null,
            "align_items": null,
            "align_self": null,
            "border": null,
            "bottom": null,
            "display": null,
            "flex": null,
            "flex_flow": null,
            "grid_area": null,
            "grid_auto_columns": null,
            "grid_auto_flow": null,
            "grid_auto_rows": null,
            "grid_column": null,
            "grid_gap": null,
            "grid_row": null,
            "grid_template_areas": null,
            "grid_template_columns": null,
            "grid_template_rows": null,
            "height": null,
            "justify_content": null,
            "justify_items": null,
            "left": null,
            "margin": null,
            "max_height": null,
            "max_width": null,
            "min_height": null,
            "min_width": null,
            "object_fit": null,
            "object_position": null,
            "order": null,
            "overflow": null,
            "overflow_x": null,
            "overflow_y": null,
            "padding": null,
            "right": null,
            "top": null,
            "visibility": null,
            "width": null
          }
        },
        "3d19cf51f8194c3ea813542320c7ee76": {
          "model_module": "@jupyter-widgets/controls",
          "model_name": "DescriptionStyleModel",
          "model_module_version": "1.5.0",
          "state": {
            "_model_module": "@jupyter-widgets/controls",
            "_model_module_version": "1.5.0",
            "_model_name": "DescriptionStyleModel",
            "_view_count": null,
            "_view_module": "@jupyter-widgets/base",
            "_view_module_version": "1.2.0",
            "_view_name": "StyleView",
            "description_width": ""
          }
        },
        "4d2d89265d55498191e0477b0ec599dc": {
          "model_module": "@jupyter-widgets/controls",
          "model_name": "HBoxModel",
          "model_module_version": "1.5.0",
          "state": {
            "_dom_classes": [],
            "_model_module": "@jupyter-widgets/controls",
            "_model_module_version": "1.5.0",
            "_model_name": "HBoxModel",
            "_view_count": null,
            "_view_module": "@jupyter-widgets/controls",
            "_view_module_version": "1.5.0",
            "_view_name": "HBoxView",
            "box_style": "",
            "children": [
              "IPY_MODEL_9c423b7c454c481f9caf735f2842782d",
              "IPY_MODEL_e000c68bc38340e8920440596ff41c35",
              "IPY_MODEL_27a401947aaa44a583b02aad0908c17e"
            ],
            "layout": "IPY_MODEL_89bf7cc8c3dd4a2993db429b040a9ab9"
          }
        },
        "9c423b7c454c481f9caf735f2842782d": {
          "model_module": "@jupyter-widgets/controls",
          "model_name": "HTMLModel",
          "model_module_version": "1.5.0",
          "state": {
            "_dom_classes": [],
            "_model_module": "@jupyter-widgets/controls",
            "_model_module_version": "1.5.0",
            "_model_name": "HTMLModel",
            "_view_count": null,
            "_view_module": "@jupyter-widgets/controls",
            "_view_module_version": "1.5.0",
            "_view_name": "HTMLView",
            "description": "",
            "description_tooltip": null,
            "layout": "IPY_MODEL_15c2cde4db7e4059a12763796b516f41",
            "placeholder": "​",
            "style": "IPY_MODEL_e6a985b47e8c4190b3bb15a678e7a78c",
            "value": "config.json: 100%"
          }
        },
        "e000c68bc38340e8920440596ff41c35": {
          "model_module": "@jupyter-widgets/controls",
          "model_name": "FloatProgressModel",
          "model_module_version": "1.5.0",
          "state": {
            "_dom_classes": [],
            "_model_module": "@jupyter-widgets/controls",
            "_model_module_version": "1.5.0",
            "_model_name": "FloatProgressModel",
            "_view_count": null,
            "_view_module": "@jupyter-widgets/controls",
            "_view_module_version": "1.5.0",
            "_view_name": "ProgressView",
            "bar_style": "success",
            "description": "",
            "description_tooltip": null,
            "layout": "IPY_MODEL_e207871a0e114133a1179765bd59a542",
            "max": 483,
            "min": 0,
            "orientation": "horizontal",
            "style": "IPY_MODEL_3baf014d90704895a65d7c3d5ff5b7c3",
            "value": 483
          }
        },
        "27a401947aaa44a583b02aad0908c17e": {
          "model_module": "@jupyter-widgets/controls",
          "model_name": "HTMLModel",
          "model_module_version": "1.5.0",
          "state": {
            "_dom_classes": [],
            "_model_module": "@jupyter-widgets/controls",
            "_model_module_version": "1.5.0",
            "_model_name": "HTMLModel",
            "_view_count": null,
            "_view_module": "@jupyter-widgets/controls",
            "_view_module_version": "1.5.0",
            "_view_name": "HTMLView",
            "description": "",
            "description_tooltip": null,
            "layout": "IPY_MODEL_1748de337cd44309984777289d6c0f4b",
            "placeholder": "​",
            "style": "IPY_MODEL_f3b27f4f851c456596b702eb74d88c32",
            "value": " 483/483 [00:00&lt;00:00, 13.4kB/s]"
          }
        },
        "89bf7cc8c3dd4a2993db429b040a9ab9": {
          "model_module": "@jupyter-widgets/base",
          "model_name": "LayoutModel",
          "model_module_version": "1.2.0",
          "state": {
            "_model_module": "@jupyter-widgets/base",
            "_model_module_version": "1.2.0",
            "_model_name": "LayoutModel",
            "_view_count": null,
            "_view_module": "@jupyter-widgets/base",
            "_view_module_version": "1.2.0",
            "_view_name": "LayoutView",
            "align_content": null,
            "align_items": null,
            "align_self": null,
            "border": null,
            "bottom": null,
            "display": null,
            "flex": null,
            "flex_flow": null,
            "grid_area": null,
            "grid_auto_columns": null,
            "grid_auto_flow": null,
            "grid_auto_rows": null,
            "grid_column": null,
            "grid_gap": null,
            "grid_row": null,
            "grid_template_areas": null,
            "grid_template_columns": null,
            "grid_template_rows": null,
            "height": null,
            "justify_content": null,
            "justify_items": null,
            "left": null,
            "margin": null,
            "max_height": null,
            "max_width": null,
            "min_height": null,
            "min_width": null,
            "object_fit": null,
            "object_position": null,
            "order": null,
            "overflow": null,
            "overflow_x": null,
            "overflow_y": null,
            "padding": null,
            "right": null,
            "top": null,
            "visibility": null,
            "width": null
          }
        },
        "15c2cde4db7e4059a12763796b516f41": {
          "model_module": "@jupyter-widgets/base",
          "model_name": "LayoutModel",
          "model_module_version": "1.2.0",
          "state": {
            "_model_module": "@jupyter-widgets/base",
            "_model_module_version": "1.2.0",
            "_model_name": "LayoutModel",
            "_view_count": null,
            "_view_module": "@jupyter-widgets/base",
            "_view_module_version": "1.2.0",
            "_view_name": "LayoutView",
            "align_content": null,
            "align_items": null,
            "align_self": null,
            "border": null,
            "bottom": null,
            "display": null,
            "flex": null,
            "flex_flow": null,
            "grid_area": null,
            "grid_auto_columns": null,
            "grid_auto_flow": null,
            "grid_auto_rows": null,
            "grid_column": null,
            "grid_gap": null,
            "grid_row": null,
            "grid_template_areas": null,
            "grid_template_columns": null,
            "grid_template_rows": null,
            "height": null,
            "justify_content": null,
            "justify_items": null,
            "left": null,
            "margin": null,
            "max_height": null,
            "max_width": null,
            "min_height": null,
            "min_width": null,
            "object_fit": null,
            "object_position": null,
            "order": null,
            "overflow": null,
            "overflow_x": null,
            "overflow_y": null,
            "padding": null,
            "right": null,
            "top": null,
            "visibility": null,
            "width": null
          }
        },
        "e6a985b47e8c4190b3bb15a678e7a78c": {
          "model_module": "@jupyter-widgets/controls",
          "model_name": "DescriptionStyleModel",
          "model_module_version": "1.5.0",
          "state": {
            "_model_module": "@jupyter-widgets/controls",
            "_model_module_version": "1.5.0",
            "_model_name": "DescriptionStyleModel",
            "_view_count": null,
            "_view_module": "@jupyter-widgets/base",
            "_view_module_version": "1.2.0",
            "_view_name": "StyleView",
            "description_width": ""
          }
        },
        "e207871a0e114133a1179765bd59a542": {
          "model_module": "@jupyter-widgets/base",
          "model_name": "LayoutModel",
          "model_module_version": "1.2.0",
          "state": {
            "_model_module": "@jupyter-widgets/base",
            "_model_module_version": "1.2.0",
            "_model_name": "LayoutModel",
            "_view_count": null,
            "_view_module": "@jupyter-widgets/base",
            "_view_module_version": "1.2.0",
            "_view_name": "LayoutView",
            "align_content": null,
            "align_items": null,
            "align_self": null,
            "border": null,
            "bottom": null,
            "display": null,
            "flex": null,
            "flex_flow": null,
            "grid_area": null,
            "grid_auto_columns": null,
            "grid_auto_flow": null,
            "grid_auto_rows": null,
            "grid_column": null,
            "grid_gap": null,
            "grid_row": null,
            "grid_template_areas": null,
            "grid_template_columns": null,
            "grid_template_rows": null,
            "height": null,
            "justify_content": null,
            "justify_items": null,
            "left": null,
            "margin": null,
            "max_height": null,
            "max_width": null,
            "min_height": null,
            "min_width": null,
            "object_fit": null,
            "object_position": null,
            "order": null,
            "overflow": null,
            "overflow_x": null,
            "overflow_y": null,
            "padding": null,
            "right": null,
            "top": null,
            "visibility": null,
            "width": null
          }
        },
        "3baf014d90704895a65d7c3d5ff5b7c3": {
          "model_module": "@jupyter-widgets/controls",
          "model_name": "ProgressStyleModel",
          "model_module_version": "1.5.0",
          "state": {
            "_model_module": "@jupyter-widgets/controls",
            "_model_module_version": "1.5.0",
            "_model_name": "ProgressStyleModel",
            "_view_count": null,
            "_view_module": "@jupyter-widgets/base",
            "_view_module_version": "1.2.0",
            "_view_name": "StyleView",
            "bar_color": null,
            "description_width": ""
          }
        },
        "1748de337cd44309984777289d6c0f4b": {
          "model_module": "@jupyter-widgets/base",
          "model_name": "LayoutModel",
          "model_module_version": "1.2.0",
          "state": {
            "_model_module": "@jupyter-widgets/base",
            "_model_module_version": "1.2.0",
            "_model_name": "LayoutModel",
            "_view_count": null,
            "_view_module": "@jupyter-widgets/base",
            "_view_module_version": "1.2.0",
            "_view_name": "LayoutView",
            "align_content": null,
            "align_items": null,
            "align_self": null,
            "border": null,
            "bottom": null,
            "display": null,
            "flex": null,
            "flex_flow": null,
            "grid_area": null,
            "grid_auto_columns": null,
            "grid_auto_flow": null,
            "grid_auto_rows": null,
            "grid_column": null,
            "grid_gap": null,
            "grid_row": null,
            "grid_template_areas": null,
            "grid_template_columns": null,
            "grid_template_rows": null,
            "height": null,
            "justify_content": null,
            "justify_items": null,
            "left": null,
            "margin": null,
            "max_height": null,
            "max_width": null,
            "min_height": null,
            "min_width": null,
            "object_fit": null,
            "object_position": null,
            "order": null,
            "overflow": null,
            "overflow_x": null,
            "overflow_y": null,
            "padding": null,
            "right": null,
            "top": null,
            "visibility": null,
            "width": null
          }
        },
        "f3b27f4f851c456596b702eb74d88c32": {
          "model_module": "@jupyter-widgets/controls",
          "model_name": "DescriptionStyleModel",
          "model_module_version": "1.5.0",
          "state": {
            "_model_module": "@jupyter-widgets/controls",
            "_model_module_version": "1.5.0",
            "_model_name": "DescriptionStyleModel",
            "_view_count": null,
            "_view_module": "@jupyter-widgets/base",
            "_view_module_version": "1.2.0",
            "_view_name": "StyleView",
            "description_width": ""
          }
        },
        "750374d1428c4b4589b06fe8221e9486": {
          "model_module": "@jupyter-widgets/controls",
          "model_name": "HBoxModel",
          "model_module_version": "1.5.0",
          "state": {
            "_dom_classes": [],
            "_model_module": "@jupyter-widgets/controls",
            "_model_module_version": "1.5.0",
            "_model_name": "HBoxModel",
            "_view_count": null,
            "_view_module": "@jupyter-widgets/controls",
            "_view_module_version": "1.5.0",
            "_view_name": "HBoxView",
            "box_style": "",
            "children": [
              "IPY_MODEL_c0585abc52744e818c86464e69c9c889",
              "IPY_MODEL_327ad2d9b2a046d7afda73728dc82b9d",
              "IPY_MODEL_5f560a09e5a94fdb9d0063867a42ecce"
            ],
            "layout": "IPY_MODEL_16ef5c6570b34a07852e9f8d8d82f7d3"
          }
        },
        "c0585abc52744e818c86464e69c9c889": {
          "model_module": "@jupyter-widgets/controls",
          "model_name": "HTMLModel",
          "model_module_version": "1.5.0",
          "state": {
            "_dom_classes": [],
            "_model_module": "@jupyter-widgets/controls",
            "_model_module_version": "1.5.0",
            "_model_name": "HTMLModel",
            "_view_count": null,
            "_view_module": "@jupyter-widgets/controls",
            "_view_module_version": "1.5.0",
            "_view_name": "HTMLView",
            "description": "",
            "description_tooltip": null,
            "layout": "IPY_MODEL_ac63936021dc416ca0c728744b340464",
            "placeholder": "​",
            "style": "IPY_MODEL_05f8699a36a343a7aa9054a2bd0f9154",
            "value": "vocab.txt: 100%"
          }
        },
        "327ad2d9b2a046d7afda73728dc82b9d": {
          "model_module": "@jupyter-widgets/controls",
          "model_name": "FloatProgressModel",
          "model_module_version": "1.5.0",
          "state": {
            "_dom_classes": [],
            "_model_module": "@jupyter-widgets/controls",
            "_model_module_version": "1.5.0",
            "_model_name": "FloatProgressModel",
            "_view_count": null,
            "_view_module": "@jupyter-widgets/controls",
            "_view_module_version": "1.5.0",
            "_view_name": "ProgressView",
            "bar_style": "success",
            "description": "",
            "description_tooltip": null,
            "layout": "IPY_MODEL_b0cfdd08905842afae85cd4d225ab222",
            "max": 231508,
            "min": 0,
            "orientation": "horizontal",
            "style": "IPY_MODEL_b69c30a184fb484086386afc9fb5a6e7",
            "value": 231508
          }
        },
        "5f560a09e5a94fdb9d0063867a42ecce": {
          "model_module": "@jupyter-widgets/controls",
          "model_name": "HTMLModel",
          "model_module_version": "1.5.0",
          "state": {
            "_dom_classes": [],
            "_model_module": "@jupyter-widgets/controls",
            "_model_module_version": "1.5.0",
            "_model_name": "HTMLModel",
            "_view_count": null,
            "_view_module": "@jupyter-widgets/controls",
            "_view_module_version": "1.5.0",
            "_view_name": "HTMLView",
            "description": "",
            "description_tooltip": null,
            "layout": "IPY_MODEL_f3330fc93136460b9cb6014b8f2a84b5",
            "placeholder": "​",
            "style": "IPY_MODEL_a585bae016274b8a98630b6dbc5c054c",
            "value": " 232k/232k [00:00&lt;00:00, 1.40MB/s]"
          }
        },
        "16ef5c6570b34a07852e9f8d8d82f7d3": {
          "model_module": "@jupyter-widgets/base",
          "model_name": "LayoutModel",
          "model_module_version": "1.2.0",
          "state": {
            "_model_module": "@jupyter-widgets/base",
            "_model_module_version": "1.2.0",
            "_model_name": "LayoutModel",
            "_view_count": null,
            "_view_module": "@jupyter-widgets/base",
            "_view_module_version": "1.2.0",
            "_view_name": "LayoutView",
            "align_content": null,
            "align_items": null,
            "align_self": null,
            "border": null,
            "bottom": null,
            "display": null,
            "flex": null,
            "flex_flow": null,
            "grid_area": null,
            "grid_auto_columns": null,
            "grid_auto_flow": null,
            "grid_auto_rows": null,
            "grid_column": null,
            "grid_gap": null,
            "grid_row": null,
            "grid_template_areas": null,
            "grid_template_columns": null,
            "grid_template_rows": null,
            "height": null,
            "justify_content": null,
            "justify_items": null,
            "left": null,
            "margin": null,
            "max_height": null,
            "max_width": null,
            "min_height": null,
            "min_width": null,
            "object_fit": null,
            "object_position": null,
            "order": null,
            "overflow": null,
            "overflow_x": null,
            "overflow_y": null,
            "padding": null,
            "right": null,
            "top": null,
            "visibility": null,
            "width": null
          }
        },
        "ac63936021dc416ca0c728744b340464": {
          "model_module": "@jupyter-widgets/base",
          "model_name": "LayoutModel",
          "model_module_version": "1.2.0",
          "state": {
            "_model_module": "@jupyter-widgets/base",
            "_model_module_version": "1.2.0",
            "_model_name": "LayoutModel",
            "_view_count": null,
            "_view_module": "@jupyter-widgets/base",
            "_view_module_version": "1.2.0",
            "_view_name": "LayoutView",
            "align_content": null,
            "align_items": null,
            "align_self": null,
            "border": null,
            "bottom": null,
            "display": null,
            "flex": null,
            "flex_flow": null,
            "grid_area": null,
            "grid_auto_columns": null,
            "grid_auto_flow": null,
            "grid_auto_rows": null,
            "grid_column": null,
            "grid_gap": null,
            "grid_row": null,
            "grid_template_areas": null,
            "grid_template_columns": null,
            "grid_template_rows": null,
            "height": null,
            "justify_content": null,
            "justify_items": null,
            "left": null,
            "margin": null,
            "max_height": null,
            "max_width": null,
            "min_height": null,
            "min_width": null,
            "object_fit": null,
            "object_position": null,
            "order": null,
            "overflow": null,
            "overflow_x": null,
            "overflow_y": null,
            "padding": null,
            "right": null,
            "top": null,
            "visibility": null,
            "width": null
          }
        },
        "05f8699a36a343a7aa9054a2bd0f9154": {
          "model_module": "@jupyter-widgets/controls",
          "model_name": "DescriptionStyleModel",
          "model_module_version": "1.5.0",
          "state": {
            "_model_module": "@jupyter-widgets/controls",
            "_model_module_version": "1.5.0",
            "_model_name": "DescriptionStyleModel",
            "_view_count": null,
            "_view_module": "@jupyter-widgets/base",
            "_view_module_version": "1.2.0",
            "_view_name": "StyleView",
            "description_width": ""
          }
        },
        "b0cfdd08905842afae85cd4d225ab222": {
          "model_module": "@jupyter-widgets/base",
          "model_name": "LayoutModel",
          "model_module_version": "1.2.0",
          "state": {
            "_model_module": "@jupyter-widgets/base",
            "_model_module_version": "1.2.0",
            "_model_name": "LayoutModel",
            "_view_count": null,
            "_view_module": "@jupyter-widgets/base",
            "_view_module_version": "1.2.0",
            "_view_name": "LayoutView",
            "align_content": null,
            "align_items": null,
            "align_self": null,
            "border": null,
            "bottom": null,
            "display": null,
            "flex": null,
            "flex_flow": null,
            "grid_area": null,
            "grid_auto_columns": null,
            "grid_auto_flow": null,
            "grid_auto_rows": null,
            "grid_column": null,
            "grid_gap": null,
            "grid_row": null,
            "grid_template_areas": null,
            "grid_template_columns": null,
            "grid_template_rows": null,
            "height": null,
            "justify_content": null,
            "justify_items": null,
            "left": null,
            "margin": null,
            "max_height": null,
            "max_width": null,
            "min_height": null,
            "min_width": null,
            "object_fit": null,
            "object_position": null,
            "order": null,
            "overflow": null,
            "overflow_x": null,
            "overflow_y": null,
            "padding": null,
            "right": null,
            "top": null,
            "visibility": null,
            "width": null
          }
        },
        "b69c30a184fb484086386afc9fb5a6e7": {
          "model_module": "@jupyter-widgets/controls",
          "model_name": "ProgressStyleModel",
          "model_module_version": "1.5.0",
          "state": {
            "_model_module": "@jupyter-widgets/controls",
            "_model_module_version": "1.5.0",
            "_model_name": "ProgressStyleModel",
            "_view_count": null,
            "_view_module": "@jupyter-widgets/base",
            "_view_module_version": "1.2.0",
            "_view_name": "StyleView",
            "bar_color": null,
            "description_width": ""
          }
        },
        "f3330fc93136460b9cb6014b8f2a84b5": {
          "model_module": "@jupyter-widgets/base",
          "model_name": "LayoutModel",
          "model_module_version": "1.2.0",
          "state": {
            "_model_module": "@jupyter-widgets/base",
            "_model_module_version": "1.2.0",
            "_model_name": "LayoutModel",
            "_view_count": null,
            "_view_module": "@jupyter-widgets/base",
            "_view_module_version": "1.2.0",
            "_view_name": "LayoutView",
            "align_content": null,
            "align_items": null,
            "align_self": null,
            "border": null,
            "bottom": null,
            "display": null,
            "flex": null,
            "flex_flow": null,
            "grid_area": null,
            "grid_auto_columns": null,
            "grid_auto_flow": null,
            "grid_auto_rows": null,
            "grid_column": null,
            "grid_gap": null,
            "grid_row": null,
            "grid_template_areas": null,
            "grid_template_columns": null,
            "grid_template_rows": null,
            "height": null,
            "justify_content": null,
            "justify_items": null,
            "left": null,
            "margin": null,
            "max_height": null,
            "max_width": null,
            "min_height": null,
            "min_width": null,
            "object_fit": null,
            "object_position": null,
            "order": null,
            "overflow": null,
            "overflow_x": null,
            "overflow_y": null,
            "padding": null,
            "right": null,
            "top": null,
            "visibility": null,
            "width": null
          }
        },
        "a585bae016274b8a98630b6dbc5c054c": {
          "model_module": "@jupyter-widgets/controls",
          "model_name": "DescriptionStyleModel",
          "model_module_version": "1.5.0",
          "state": {
            "_model_module": "@jupyter-widgets/controls",
            "_model_module_version": "1.5.0",
            "_model_name": "DescriptionStyleModel",
            "_view_count": null,
            "_view_module": "@jupyter-widgets/base",
            "_view_module_version": "1.2.0",
            "_view_name": "StyleView",
            "description_width": ""
          }
        },
        "72e8f9bf09544b76ae3d06b5db4702d0": {
          "model_module": "@jupyter-widgets/controls",
          "model_name": "HBoxModel",
          "model_module_version": "1.5.0",
          "state": {
            "_dom_classes": [],
            "_model_module": "@jupyter-widgets/controls",
            "_model_module_version": "1.5.0",
            "_model_name": "HBoxModel",
            "_view_count": null,
            "_view_module": "@jupyter-widgets/controls",
            "_view_module_version": "1.5.0",
            "_view_name": "HBoxView",
            "box_style": "",
            "children": [
              "IPY_MODEL_48a4b39948c04c4e86b34a1bc0492434",
              "IPY_MODEL_b31ae0f16e29471f8a20940d2cbfc7a5",
              "IPY_MODEL_770e3a2615e14dcbbe513e5f4dade3d8"
            ],
            "layout": "IPY_MODEL_2c7a704901744805bb242521aa5c3e64"
          }
        },
        "48a4b39948c04c4e86b34a1bc0492434": {
          "model_module": "@jupyter-widgets/controls",
          "model_name": "HTMLModel",
          "model_module_version": "1.5.0",
          "state": {
            "_dom_classes": [],
            "_model_module": "@jupyter-widgets/controls",
            "_model_module_version": "1.5.0",
            "_model_name": "HTMLModel",
            "_view_count": null,
            "_view_module": "@jupyter-widgets/controls",
            "_view_module_version": "1.5.0",
            "_view_name": "HTMLView",
            "description": "",
            "description_tooltip": null,
            "layout": "IPY_MODEL_9c812d1f42734a7086b27b43160eb751",
            "placeholder": "​",
            "style": "IPY_MODEL_4a6b34c6c5c84c729ddba698e40dd78c",
            "value": "tokenizer.json: 100%"
          }
        },
        "b31ae0f16e29471f8a20940d2cbfc7a5": {
          "model_module": "@jupyter-widgets/controls",
          "model_name": "FloatProgressModel",
          "model_module_version": "1.5.0",
          "state": {
            "_dom_classes": [],
            "_model_module": "@jupyter-widgets/controls",
            "_model_module_version": "1.5.0",
            "_model_name": "FloatProgressModel",
            "_view_count": null,
            "_view_module": "@jupyter-widgets/controls",
            "_view_module_version": "1.5.0",
            "_view_name": "ProgressView",
            "bar_style": "success",
            "description": "",
            "description_tooltip": null,
            "layout": "IPY_MODEL_abe0567cb8684761b052e0ef9e414e5b",
            "max": 466062,
            "min": 0,
            "orientation": "horizontal",
            "style": "IPY_MODEL_56042555007f4ce2ae21088df32cfee9",
            "value": 466062
          }
        },
        "770e3a2615e14dcbbe513e5f4dade3d8": {
          "model_module": "@jupyter-widgets/controls",
          "model_name": "HTMLModel",
          "model_module_version": "1.5.0",
          "state": {
            "_dom_classes": [],
            "_model_module": "@jupyter-widgets/controls",
            "_model_module_version": "1.5.0",
            "_model_name": "HTMLModel",
            "_view_count": null,
            "_view_module": "@jupyter-widgets/controls",
            "_view_module_version": "1.5.0",
            "_view_name": "HTMLView",
            "description": "",
            "description_tooltip": null,
            "layout": "IPY_MODEL_7a58dd463a974ce8a3cc3299d542643b",
            "placeholder": "​",
            "style": "IPY_MODEL_cd56e58a45544b7cb68b9995d6c3677f",
            "value": " 466k/466k [00:00&lt;00:00, 5.52MB/s]"
          }
        },
        "2c7a704901744805bb242521aa5c3e64": {
          "model_module": "@jupyter-widgets/base",
          "model_name": "LayoutModel",
          "model_module_version": "1.2.0",
          "state": {
            "_model_module": "@jupyter-widgets/base",
            "_model_module_version": "1.2.0",
            "_model_name": "LayoutModel",
            "_view_count": null,
            "_view_module": "@jupyter-widgets/base",
            "_view_module_version": "1.2.0",
            "_view_name": "LayoutView",
            "align_content": null,
            "align_items": null,
            "align_self": null,
            "border": null,
            "bottom": null,
            "display": null,
            "flex": null,
            "flex_flow": null,
            "grid_area": null,
            "grid_auto_columns": null,
            "grid_auto_flow": null,
            "grid_auto_rows": null,
            "grid_column": null,
            "grid_gap": null,
            "grid_row": null,
            "grid_template_areas": null,
            "grid_template_columns": null,
            "grid_template_rows": null,
            "height": null,
            "justify_content": null,
            "justify_items": null,
            "left": null,
            "margin": null,
            "max_height": null,
            "max_width": null,
            "min_height": null,
            "min_width": null,
            "object_fit": null,
            "object_position": null,
            "order": null,
            "overflow": null,
            "overflow_x": null,
            "overflow_y": null,
            "padding": null,
            "right": null,
            "top": null,
            "visibility": null,
            "width": null
          }
        },
        "9c812d1f42734a7086b27b43160eb751": {
          "model_module": "@jupyter-widgets/base",
          "model_name": "LayoutModel",
          "model_module_version": "1.2.0",
          "state": {
            "_model_module": "@jupyter-widgets/base",
            "_model_module_version": "1.2.0",
            "_model_name": "LayoutModel",
            "_view_count": null,
            "_view_module": "@jupyter-widgets/base",
            "_view_module_version": "1.2.0",
            "_view_name": "LayoutView",
            "align_content": null,
            "align_items": null,
            "align_self": null,
            "border": null,
            "bottom": null,
            "display": null,
            "flex": null,
            "flex_flow": null,
            "grid_area": null,
            "grid_auto_columns": null,
            "grid_auto_flow": null,
            "grid_auto_rows": null,
            "grid_column": null,
            "grid_gap": null,
            "grid_row": null,
            "grid_template_areas": null,
            "grid_template_columns": null,
            "grid_template_rows": null,
            "height": null,
            "justify_content": null,
            "justify_items": null,
            "left": null,
            "margin": null,
            "max_height": null,
            "max_width": null,
            "min_height": null,
            "min_width": null,
            "object_fit": null,
            "object_position": null,
            "order": null,
            "overflow": null,
            "overflow_x": null,
            "overflow_y": null,
            "padding": null,
            "right": null,
            "top": null,
            "visibility": null,
            "width": null
          }
        },
        "4a6b34c6c5c84c729ddba698e40dd78c": {
          "model_module": "@jupyter-widgets/controls",
          "model_name": "DescriptionStyleModel",
          "model_module_version": "1.5.0",
          "state": {
            "_model_module": "@jupyter-widgets/controls",
            "_model_module_version": "1.5.0",
            "_model_name": "DescriptionStyleModel",
            "_view_count": null,
            "_view_module": "@jupyter-widgets/base",
            "_view_module_version": "1.2.0",
            "_view_name": "StyleView",
            "description_width": ""
          }
        },
        "abe0567cb8684761b052e0ef9e414e5b": {
          "model_module": "@jupyter-widgets/base",
          "model_name": "LayoutModel",
          "model_module_version": "1.2.0",
          "state": {
            "_model_module": "@jupyter-widgets/base",
            "_model_module_version": "1.2.0",
            "_model_name": "LayoutModel",
            "_view_count": null,
            "_view_module": "@jupyter-widgets/base",
            "_view_module_version": "1.2.0",
            "_view_name": "LayoutView",
            "align_content": null,
            "align_items": null,
            "align_self": null,
            "border": null,
            "bottom": null,
            "display": null,
            "flex": null,
            "flex_flow": null,
            "grid_area": null,
            "grid_auto_columns": null,
            "grid_auto_flow": null,
            "grid_auto_rows": null,
            "grid_column": null,
            "grid_gap": null,
            "grid_row": null,
            "grid_template_areas": null,
            "grid_template_columns": null,
            "grid_template_rows": null,
            "height": null,
            "justify_content": null,
            "justify_items": null,
            "left": null,
            "margin": null,
            "max_height": null,
            "max_width": null,
            "min_height": null,
            "min_width": null,
            "object_fit": null,
            "object_position": null,
            "order": null,
            "overflow": null,
            "overflow_x": null,
            "overflow_y": null,
            "padding": null,
            "right": null,
            "top": null,
            "visibility": null,
            "width": null
          }
        },
        "56042555007f4ce2ae21088df32cfee9": {
          "model_module": "@jupyter-widgets/controls",
          "model_name": "ProgressStyleModel",
          "model_module_version": "1.5.0",
          "state": {
            "_model_module": "@jupyter-widgets/controls",
            "_model_module_version": "1.5.0",
            "_model_name": "ProgressStyleModel",
            "_view_count": null,
            "_view_module": "@jupyter-widgets/base",
            "_view_module_version": "1.2.0",
            "_view_name": "StyleView",
            "bar_color": null,
            "description_width": ""
          }
        },
        "7a58dd463a974ce8a3cc3299d542643b": {
          "model_module": "@jupyter-widgets/base",
          "model_name": "LayoutModel",
          "model_module_version": "1.2.0",
          "state": {
            "_model_module": "@jupyter-widgets/base",
            "_model_module_version": "1.2.0",
            "_model_name": "LayoutModel",
            "_view_count": null,
            "_view_module": "@jupyter-widgets/base",
            "_view_module_version": "1.2.0",
            "_view_name": "LayoutView",
            "align_content": null,
            "align_items": null,
            "align_self": null,
            "border": null,
            "bottom": null,
            "display": null,
            "flex": null,
            "flex_flow": null,
            "grid_area": null,
            "grid_auto_columns": null,
            "grid_auto_flow": null,
            "grid_auto_rows": null,
            "grid_column": null,
            "grid_gap": null,
            "grid_row": null,
            "grid_template_areas": null,
            "grid_template_columns": null,
            "grid_template_rows": null,
            "height": null,
            "justify_content": null,
            "justify_items": null,
            "left": null,
            "margin": null,
            "max_height": null,
            "max_width": null,
            "min_height": null,
            "min_width": null,
            "object_fit": null,
            "object_position": null,
            "order": null,
            "overflow": null,
            "overflow_x": null,
            "overflow_y": null,
            "padding": null,
            "right": null,
            "top": null,
            "visibility": null,
            "width": null
          }
        },
        "cd56e58a45544b7cb68b9995d6c3677f": {
          "model_module": "@jupyter-widgets/controls",
          "model_name": "DescriptionStyleModel",
          "model_module_version": "1.5.0",
          "state": {
            "_model_module": "@jupyter-widgets/controls",
            "_model_module_version": "1.5.0",
            "_model_name": "DescriptionStyleModel",
            "_view_count": null,
            "_view_module": "@jupyter-widgets/base",
            "_view_module_version": "1.2.0",
            "_view_name": "StyleView",
            "description_width": ""
          }
        },
        "40ae2cef87f241b4b67fad374bf95c1c": {
          "model_module": "@jupyter-widgets/controls",
          "model_name": "HBoxModel",
          "model_module_version": "1.5.0",
          "state": {
            "_dom_classes": [],
            "_model_module": "@jupyter-widgets/controls",
            "_model_module_version": "1.5.0",
            "_model_name": "HBoxModel",
            "_view_count": null,
            "_view_module": "@jupyter-widgets/controls",
            "_view_module_version": "1.5.0",
            "_view_name": "HBoxView",
            "box_style": "",
            "children": [
              "IPY_MODEL_ef8ddb329f43457ab4193e1ecd1b88ca",
              "IPY_MODEL_98b8457a8f3149afbb9884b1f84670e8",
              "IPY_MODEL_6a739c03a21149a886493c6a12952bf7"
            ],
            "layout": "IPY_MODEL_b768a0a6e50d47369760f1370e1ff298"
          }
        },
        "ef8ddb329f43457ab4193e1ecd1b88ca": {
          "model_module": "@jupyter-widgets/controls",
          "model_name": "HTMLModel",
          "model_module_version": "1.5.0",
          "state": {
            "_dom_classes": [],
            "_model_module": "@jupyter-widgets/controls",
            "_model_module_version": "1.5.0",
            "_model_name": "HTMLModel",
            "_view_count": null,
            "_view_module": "@jupyter-widgets/controls",
            "_view_module_version": "1.5.0",
            "_view_name": "HTMLView",
            "description": "",
            "description_tooltip": null,
            "layout": "IPY_MODEL_90289e95d2044858ac0fe0100f3c168a",
            "placeholder": "​",
            "style": "IPY_MODEL_b93f176e46ba4200a5a31b30ec55806e",
            "value": "100%"
          }
        },
        "98b8457a8f3149afbb9884b1f84670e8": {
          "model_module": "@jupyter-widgets/controls",
          "model_name": "FloatProgressModel",
          "model_module_version": "1.5.0",
          "state": {
            "_dom_classes": [],
            "_model_module": "@jupyter-widgets/controls",
            "_model_module_version": "1.5.0",
            "_model_name": "FloatProgressModel",
            "_view_count": null,
            "_view_module": "@jupyter-widgets/controls",
            "_view_module_version": "1.5.0",
            "_view_name": "ProgressView",
            "bar_style": "success",
            "description": "",
            "description_tooltip": null,
            "layout": "IPY_MODEL_a5bdc0876d5a467bb174ff2682525897",
            "max": 40539,
            "min": 0,
            "orientation": "horizontal",
            "style": "IPY_MODEL_2fabc76b797548a094dc4e9559437770",
            "value": 40539
          }
        },
        "6a739c03a21149a886493c6a12952bf7": {
          "model_module": "@jupyter-widgets/controls",
          "model_name": "HTMLModel",
          "model_module_version": "1.5.0",
          "state": {
            "_dom_classes": [],
            "_model_module": "@jupyter-widgets/controls",
            "_model_module_version": "1.5.0",
            "_model_name": "HTMLModel",
            "_view_count": null,
            "_view_module": "@jupyter-widgets/controls",
            "_view_module_version": "1.5.0",
            "_view_name": "HTMLView",
            "description": "",
            "description_tooltip": null,
            "layout": "IPY_MODEL_1dd834f331e544678ee481dc8cf39109",
            "placeholder": "​",
            "style": "IPY_MODEL_06bedc98934d4af7b84bd5db5bc8afb3",
            "value": " 40539/40539 [35:18&lt;00:00, 18.94it/s]"
          }
        },
        "b768a0a6e50d47369760f1370e1ff298": {
          "model_module": "@jupyter-widgets/base",
          "model_name": "LayoutModel",
          "model_module_version": "1.2.0",
          "state": {
            "_model_module": "@jupyter-widgets/base",
            "_model_module_version": "1.2.0",
            "_model_name": "LayoutModel",
            "_view_count": null,
            "_view_module": "@jupyter-widgets/base",
            "_view_module_version": "1.2.0",
            "_view_name": "LayoutView",
            "align_content": null,
            "align_items": null,
            "align_self": null,
            "border": null,
            "bottom": null,
            "display": null,
            "flex": null,
            "flex_flow": null,
            "grid_area": null,
            "grid_auto_columns": null,
            "grid_auto_flow": null,
            "grid_auto_rows": null,
            "grid_column": null,
            "grid_gap": null,
            "grid_row": null,
            "grid_template_areas": null,
            "grid_template_columns": null,
            "grid_template_rows": null,
            "height": null,
            "justify_content": null,
            "justify_items": null,
            "left": null,
            "margin": null,
            "max_height": null,
            "max_width": null,
            "min_height": null,
            "min_width": null,
            "object_fit": null,
            "object_position": null,
            "order": null,
            "overflow": null,
            "overflow_x": null,
            "overflow_y": null,
            "padding": null,
            "right": null,
            "top": null,
            "visibility": null,
            "width": null
          }
        },
        "90289e95d2044858ac0fe0100f3c168a": {
          "model_module": "@jupyter-widgets/base",
          "model_name": "LayoutModel",
          "model_module_version": "1.2.0",
          "state": {
            "_model_module": "@jupyter-widgets/base",
            "_model_module_version": "1.2.0",
            "_model_name": "LayoutModel",
            "_view_count": null,
            "_view_module": "@jupyter-widgets/base",
            "_view_module_version": "1.2.0",
            "_view_name": "LayoutView",
            "align_content": null,
            "align_items": null,
            "align_self": null,
            "border": null,
            "bottom": null,
            "display": null,
            "flex": null,
            "flex_flow": null,
            "grid_area": null,
            "grid_auto_columns": null,
            "grid_auto_flow": null,
            "grid_auto_rows": null,
            "grid_column": null,
            "grid_gap": null,
            "grid_row": null,
            "grid_template_areas": null,
            "grid_template_columns": null,
            "grid_template_rows": null,
            "height": null,
            "justify_content": null,
            "justify_items": null,
            "left": null,
            "margin": null,
            "max_height": null,
            "max_width": null,
            "min_height": null,
            "min_width": null,
            "object_fit": null,
            "object_position": null,
            "order": null,
            "overflow": null,
            "overflow_x": null,
            "overflow_y": null,
            "padding": null,
            "right": null,
            "top": null,
            "visibility": null,
            "width": null
          }
        },
        "b93f176e46ba4200a5a31b30ec55806e": {
          "model_module": "@jupyter-widgets/controls",
          "model_name": "DescriptionStyleModel",
          "model_module_version": "1.5.0",
          "state": {
            "_model_module": "@jupyter-widgets/controls",
            "_model_module_version": "1.5.0",
            "_model_name": "DescriptionStyleModel",
            "_view_count": null,
            "_view_module": "@jupyter-widgets/base",
            "_view_module_version": "1.2.0",
            "_view_name": "StyleView",
            "description_width": ""
          }
        },
        "a5bdc0876d5a467bb174ff2682525897": {
          "model_module": "@jupyter-widgets/base",
          "model_name": "LayoutModel",
          "model_module_version": "1.2.0",
          "state": {
            "_model_module": "@jupyter-widgets/base",
            "_model_module_version": "1.2.0",
            "_model_name": "LayoutModel",
            "_view_count": null,
            "_view_module": "@jupyter-widgets/base",
            "_view_module_version": "1.2.0",
            "_view_name": "LayoutView",
            "align_content": null,
            "align_items": null,
            "align_self": null,
            "border": null,
            "bottom": null,
            "display": null,
            "flex": null,
            "flex_flow": null,
            "grid_area": null,
            "grid_auto_columns": null,
            "grid_auto_flow": null,
            "grid_auto_rows": null,
            "grid_column": null,
            "grid_gap": null,
            "grid_row": null,
            "grid_template_areas": null,
            "grid_template_columns": null,
            "grid_template_rows": null,
            "height": null,
            "justify_content": null,
            "justify_items": null,
            "left": null,
            "margin": null,
            "max_height": null,
            "max_width": null,
            "min_height": null,
            "min_width": null,
            "object_fit": null,
            "object_position": null,
            "order": null,
            "overflow": null,
            "overflow_x": null,
            "overflow_y": null,
            "padding": null,
            "right": null,
            "top": null,
            "visibility": null,
            "width": null
          }
        },
        "2fabc76b797548a094dc4e9559437770": {
          "model_module": "@jupyter-widgets/controls",
          "model_name": "ProgressStyleModel",
          "model_module_version": "1.5.0",
          "state": {
            "_model_module": "@jupyter-widgets/controls",
            "_model_module_version": "1.5.0",
            "_model_name": "ProgressStyleModel",
            "_view_count": null,
            "_view_module": "@jupyter-widgets/base",
            "_view_module_version": "1.2.0",
            "_view_name": "StyleView",
            "bar_color": null,
            "description_width": ""
          }
        },
        "1dd834f331e544678ee481dc8cf39109": {
          "model_module": "@jupyter-widgets/base",
          "model_name": "LayoutModel",
          "model_module_version": "1.2.0",
          "state": {
            "_model_module": "@jupyter-widgets/base",
            "_model_module_version": "1.2.0",
            "_model_name": "LayoutModel",
            "_view_count": null,
            "_view_module": "@jupyter-widgets/base",
            "_view_module_version": "1.2.0",
            "_view_name": "LayoutView",
            "align_content": null,
            "align_items": null,
            "align_self": null,
            "border": null,
            "bottom": null,
            "display": null,
            "flex": null,
            "flex_flow": null,
            "grid_area": null,
            "grid_auto_columns": null,
            "grid_auto_flow": null,
            "grid_auto_rows": null,
            "grid_column": null,
            "grid_gap": null,
            "grid_row": null,
            "grid_template_areas": null,
            "grid_template_columns": null,
            "grid_template_rows": null,
            "height": null,
            "justify_content": null,
            "justify_items": null,
            "left": null,
            "margin": null,
            "max_height": null,
            "max_width": null,
            "min_height": null,
            "min_width": null,
            "object_fit": null,
            "object_position": null,
            "order": null,
            "overflow": null,
            "overflow_x": null,
            "overflow_y": null,
            "padding": null,
            "right": null,
            "top": null,
            "visibility": null,
            "width": null
          }
        },
        "06bedc98934d4af7b84bd5db5bc8afb3": {
          "model_module": "@jupyter-widgets/controls",
          "model_name": "DescriptionStyleModel",
          "model_module_version": "1.5.0",
          "state": {
            "_model_module": "@jupyter-widgets/controls",
            "_model_module_version": "1.5.0",
            "_model_name": "DescriptionStyleModel",
            "_view_count": null,
            "_view_module": "@jupyter-widgets/base",
            "_view_module_version": "1.2.0",
            "_view_name": "StyleView",
            "description_width": ""
          }
        }
      }
    },
    "accelerator": "GPU"
  },
  "nbformat": 4,
  "nbformat_minor": 0
}